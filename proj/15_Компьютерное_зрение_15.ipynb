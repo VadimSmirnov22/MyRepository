{
 "cells": [
  {
   "cell_type": "markdown",
   "metadata": {},
   "source": [
    "<div style=\"border: 1px solid #CCCCFF; border-radius: 1px;\">\n",
    "<div style=\"margin: 5px\">\n",
    "<b class=\"alert-heading\">Комментарий ревьюера</b>\n",
    "<p>Вадим, привет!</p>\n",
    "<p>Меня зовут Алексей Секоцкий. Поздравляю с подготовкой очередного проекта. Предлагаю обращаться друг к другу на «ты» если нет возражений. Ниже стандартный блок с условными обозначениями:</p>\n",
    "<div class=\"alert alert-success\" role=\"alert\">\n",
    "всё отлично\n",
    "</div>\n",
    "<div class=\"alert alert-warning\" role=\"alert\">\n",
    "рекомендации на будущее (не требующие доработки проекта)\n",
    "</div>\n",
    "<div class=\"alert alert-danger\" role=\"alert\">\n",
    "критичные моменты требующие внимания (доработки)\n",
    "</div>\n",
    "<div class=\"alert alert-info\">\n",
    "информационные комментарии и итоговый\n",
    "</div>\n",
    "\n",
    "<hr>\n",
    "<p>Пожалуйста, не изменяй и не удаляй мои комментарии – они потребуются для повторной проверки (при необходимости). Задавай вопросы и описывай сделанные изменения, помечая их любым удобным наглядным способом.</p>"
   ]
  },
  {
   "cell_type": "markdown",
   "metadata": {},
   "source": [
    "# Определение возраста покупателей"
   ]
  },
  {
   "cell_type": "markdown",
   "metadata": {},
   "source": [
    "Описание проекта:\n",
    "\n",
    "Сетевой супермаркет «Хлеб-Соль» внедряет систему компьютерного зрения для обработки фотографий покупателей. Фотофиксация в прикассовой зоне поможет определять возраст клиентов, чтобы:\n",
    "Анализировать покупки и предлагать товары, которые могут заинтересовать покупателей этой возрастной группы;\n",
    "Контролировать добросовестность кассиров при продаже алкоголя.\n",
    "\n",
    "Необходимо построить модель, которая по фотографии определит приблизительный возраст человека. В  распоряжении набор фотографий людей с указанием возраста."
   ]
  },
  {
   "cell_type": "markdown",
   "metadata": {},
   "source": [
    "## Исследовательский анализ данных"
   ]
  },
  {
   "cell_type": "code",
   "execution_count": 1,
   "metadata": {},
   "outputs": [],
   "source": [
    "import pandas as pd\n",
    "import numpy as np\n",
    "from PIL import Image\n",
    "import matplotlib.pyplot as plt\n",
    "import plotly.express as px\n",
    "from tensorflow.keras.preprocessing.image import ImageDataGenerator"
   ]
  },
  {
   "cell_type": "markdown",
   "metadata": {},
   "source": [
    "Загрузим датасет"
   ]
  },
  {
   "cell_type": "code",
   "execution_count": null,
   "metadata": {},
   "outputs": [],
   "source": [
    "labels = pd.read_csv('/datasets/faces/labels.csv')\n",
    "train_datagen = ImageDataGenerator(rescale=1./255)\n",
    "train_gen_flow = train_datagen.flow_from_dataframe(\n",
    "        dataframe=labels,\n",
    "        directory='/datasets/faces/final_files/',\n",
    "        x_col='file_name',\n",
    "        y_col='real_age',\n",
    "        target_size=(224, 224),\n",
    "        batch_size=32,\n",
    "        class_mode='raw',\n",
    "        seed=12345) "
   ]
  },
  {
   "cell_type": "code",
   "execution_count": null,
   "metadata": {
    "scrolled": true
   },
   "outputs": [],
   "source": [
    "labels.info()"
   ]
  },
  {
   "cell_type": "markdown",
   "metadata": {},
   "source": [
    "Датасет содержит 7591 изображение людей с индикатором точного возраста"
   ]
  },
  {
   "cell_type": "code",
   "execution_count": null,
   "metadata": {},
   "outputs": [],
   "source": [
    "labels.head()"
   ]
  },
  {
   "cell_type": "code",
   "execution_count": null,
   "metadata": {
    "scrolled": true
   },
   "outputs": [],
   "source": [
    "labels.hist(column='real_age',bins=100, range=(0,100));"
   ]
  },
  {
   "cell_type": "markdown",
   "metadata": {},
   "source": [
    "<div class=\"alert alert-warning\">\n",
    "<b>Комментарий от ревьюера</b>\n",
    "\n",
    "У нас возраст от 1 до 100, поэтому и корзин лучше 100 чтобы увидеть особенности распределения и потом в выводе его правильно описать. 50 корзин тоже достаточно, но пики на круглые даты менее заметны.\n",
    "</div>"
   ]
  },
  {
   "cell_type": "markdown",
   "metadata": {},
   "source": [
    "<div class=\"alert alert-block alert-info\">\n",
    "<b>Исправил</b>\n",
    "</div>"
   ]
  },
  {
   "cell_type": "markdown",
   "metadata": {},
   "source": [
    "<div class=\"alert alert-success\">\n",
    "<b>Комментарий ревьюера 2</b>\n",
    "\n",
    "👍\n",
    "</div>"
   ]
  },
  {
   "cell_type": "markdown",
   "metadata": {},
   "source": [
    "Наибольшее количество изображений людей в интервале 18-35 лет"
   ]
  },
  {
   "cell_type": "code",
   "execution_count": null,
   "metadata": {},
   "outputs": [],
   "source": [
    "features, target = next(train_gen_flow)"
   ]
  },
  {
   "cell_type": "markdown",
   "metadata": {},
   "source": [
    "Взглянем на фотографии людей и их возраст"
   ]
  },
  {
   "cell_type": "code",
   "execution_count": null,
   "metadata": {
    "scrolled": false
   },
   "outputs": [],
   "source": [
    "fig = plt.figure(figsize=(10,10))\n",
    "for i in range(10):    \n",
    "    fig.add_subplot(5, 5, i+1)\n",
    "    plt.imshow(features[i])\n",
    "    plt.title(target[i])\n",
    "    plt.xticks([])\n",
    "    plt.yticks([])\n",
    "    plt.tight_layout()\n",
    "    "
   ]
  },
  {
   "cell_type": "markdown",
   "metadata": {},
   "source": [
    "<div class=\"alert alert-warning\">\n",
    "<b>Комментарий от ревьюера</b>\n",
    "\n",
    "Желательно фото вывести в несколько рядов для компактности и вместо 10 фото лучше 20 чтобы увидеть больше разных вариаций. Также можно добавить вывод возраста над каждым фото для визуальной оценки используя `plt.title()`.\n",
    "</div>"
   ]
  },
  {
   "cell_type": "markdown",
   "metadata": {},
   "source": [
    "<div class=\"alert alert-block alert-info\">\n",
    "<b>Исправил</b>\n",
    "</div>"
   ]
  },
  {
   "cell_type": "markdown",
   "metadata": {},
   "source": [
    "<div class=\"alert alert-success\">\n",
    "<b>Комментарий ревьюера 2</b>\n",
    "\n",
    "Супер! Учень удобно.\n",
    "</div>"
   ]
  },
  {
   "cell_type": "markdown",
   "metadata": {},
   "source": [
    "<div class=\"alert alert-danger\">\n",
    "<b>Комментарий от ревьюера</b>\n",
    "\n",
    "По результатам анализа датасета, гистограммы и фото необходимы следующие уточнения:\n",
    "\n",
    "1. Пояснения по размеру выборки (большая, маленькая, достаточная) и предложения по работе с датасетом такого размера.\n",
    "2. Выводы по гистограмме. Обратить внимание на выбросы, пики в круглые даты и выдвинуть предположения почему они могли появиться.\n",
    "3. По фото. Описать особенности увиденные на фото: цветность, качество, размер лиц, угол поворота и т.п. и предложить аугментацию (при необходимости).\n",
    "<br/>\n",
    "</div>"
   ]
  },
  {
   "cell_type": "markdown",
   "metadata": {},
   "source": [
    "<div class=\"alert alert-block alert-info\">\n",
    "<b>Исправил</b>\n",
    "</div>"
   ]
  },
  {
   "cell_type": "markdown",
   "metadata": {},
   "source": [
    "<div class=\"alert alert-block alert-info\">\n",
    "\n",
    "\n",
    "\n",
    "По результатам анализа датасета были сделаны следующие выводы:\n",
    "1. Предоставленный датасет можно отнести к средним размерам. В категории лиц 13-25 лет датасет стоит расширить для качественного обучения модели, если одной из наших задач является идентификация лица, которому можно/нельзя продавать алкоголь.\n",
    "2. В построенной гистограмме есть явные выбросы, например 25, 30, 35, 40, 50, 60, 80 лет. Связаны выбросы, вероятно, с округлениев возраста в результате проводимого опроса. Как правило округление возраста происходит в меньшую сторону.\n",
    "3. Качество фото в датасете не идеальное. Существуют искажения изображений в виде \"растянутости\", некоторые фото повернуты на угол до 20 градусов с черными границами, есть черно- белые изображения. \n",
    "Как правило, лица занимают большую часть кадра, но в большинстве случаев люди сфотографированы не фронтально, а сбоку. В виду этого стоит ввести horizontal_flip для большего разнообразия изображений и лучшего обучения модели. \n",
    "    \n",
    "    </div>"
   ]
  },
  {
   "cell_type": "markdown",
   "metadata": {},
   "source": [
    "<div class=\"alert alert-success\">\n",
    "<b>Комментарий ревьюера</b>\n",
    "\n",
    "Верно! Пики - это округления при разметке. Аугментация также отличная. Можно еще добавить небольшие вращения и смещения.\n",
    "</div>"
   ]
  },
  {
   "cell_type": "markdown",
   "metadata": {},
   "source": [
    "## Обучение модели"
   ]
  },
  {
   "cell_type": "markdown",
   "metadata": {},
   "source": [
    "```python\n",
    "\n",
    "import pandas as pd\n",
    "import numpy as np\n",
    "from tensorflow.keras.layers import Dense, GlobalAveragePooling2D\n",
    "from tensorflow.keras.models import Sequential\n",
    "from tensorflow.keras.optimizers import Adam\n",
    "from tensorflow.keras.preprocessing.image import ImageDataGenerator\n",
    "from tensorflow.keras.applications.resnet import ResNet50\n",
    " \n",
    "def load_train(path):\n",
    "    labels = pd.read_csv(path + 'labels.csv')\n",
    "    datagen = ImageDataGenerator(validation_split=0.25, rescale=1/255., horizontal_flip=True)\n",
    " \n",
    "    train_gen_flow = datagen.flow_from_dataframe(\n",
    "        dataframe=labels,\n",
    "        directory=path+'final_files/',\n",
    "        x_col='file_name',\n",
    "        y_col='real_age',        \n",
    "        target_size=(224, 224),\n",
    "        batch_size=16,\n",
    "        class_mode='raw',\n",
    "        subset='training',\n",
    "        seed=12345)\n",
    " \n",
    "    return train_gen_flow\n",
    " \n",
    "def load_test(path):\n",
    "    labels = pd.read_csv(path+'labels.csv')\n",
    "    test_datagen = ImageDataGenerator(rescale=1./255, validation_split=0.25)\n",
    " \n",
    "    test_gen_flow = test_datagen.flow_from_dataframe(\n",
    "        dataframe=labels,\n",
    "        directory=path + 'final_files/',\n",
    "        x_col='file_name',\n",
    "        y_col='real_age',\n",
    "        target_size=(224, 224),\n",
    "        batch_size=16,\n",
    "        class_mode='raw',\n",
    "        subset='validation',\n",
    "        seed=12345)\n",
    " \n",
    "    return test_gen_flow\n",
    " \n",
    "def create_model(input_shape):\n",
    "    backbone = ResNet50(input_shape=input_shape, weights='imagenet', include_top=False)\n",
    "    \n",
    "    model = Sequential()\n",
    "    model.add(backbone)\n",
    "    model.add(GlobalAveragePooling2D())\n",
    "    model.add(Dense(units=1, activation='relu'))\n",
    "    \n",
    "    optimizer = Adam(lr=0.0009)\n",
    "    model.compile(optimizer=optimizer, loss='mean_squared_error', metrics=['mae'])\n",
    "    return(model)\n",
    " \n",
    "def train_model(model, train_data, test_data, batch_size=None, epochs=25, steps_per_epoch=None, validation_steps=None):\n",
    "    \n",
    "    if steps_per_epoch is None:\n",
    "        steps_per_epoch = len(train_data)\n",
    "    if validation_steps is None:\n",
    "        validation_steps = len(test_data)\n",
    "    \n",
    "    model.fit(train_data, \n",
    "              validation_data=test_data,\n",
    "              batch_size=batch_size, epochs=epochs,\n",
    "              steps_per_epoch=steps_per_epoch,\n",
    "              validation_steps=validation_steps,\n",
    "              verbose=2, shuffle=True)\n",
    "    return model\n",
    "\n",
    "```"
   ]
  },
  {
   "cell_type": "markdown",
   "metadata": {},
   "source": [
    "<div class=\"alert alert-warning\">\n",
    "<b>Комментарий ревьюера</b>\n",
    "\n",
    "Какая функция активации использовалась? В <a href=\"https://keras.io/api/layers/core_layers/dense/\">документации</a> сказано, что если не задана функция активации, то по умолчанию она линейна. Рекомендую <a href=\"https://neurohive.io/ru/osnovy-data-science/activation-functions/\">статью</a> про функции активации нейросети.\n",
    "<hr>\n",
    "\n",
    "Отлично, что используется аугментация horizontal_flip. Другие примеры можно посмотреть в <a href=\"https://www.tensorflow.org/api_docs/python/tf/keras/preprocessing/image/ImageDataGenerator\">документации</a> или в <a href=\"https://towardsdatascience.com/machinex-image-data-augmentation-using-keras-b459ef87cd22\">статье</a>.\n",
    "</div>"
   ]
  },
  {
   "cell_type": "markdown",
   "metadata": {},
   "source": [
    "<div class=\"alert alert-block alert-info\">\n",
    "<b>Исправил</b>\n",
    "</div>"
   ]
  },
  {
   "cell_type": "markdown",
   "metadata": {},
   "source": [
    "```\n",
    "Train for 356 steps, validate for 119 steps\n",
    "Epoch 1/25\n",
    "2021-09-09 20:57:56.128643: I tensorflow/stream_executor/platform/default/dso_loader.cc:44] Successfully opened dynamic library libcublas.so.10\n",
    "2021-09-09 20:58:01.050001: I tensorflow/stream_executor/platform/default/dso_loader.cc:44] Successfully opened dynamic library libcudnn.so.7\n",
    "356/356 - 125s - loss: 251.6674 - mae: 12.1303 - val_loss: 333.1984 - val_mae: 13.5425\n",
    "Epoch 2/25\n",
    "356/356 - 38s - loss: 176.4401 - mae: 10.1939 - val_loss: 289.8830 - val_mae: 12.9012\n",
    "Epoch 3/25\n",
    "356/356 - 38s - loss: 149.6896 - mae: 9.3940 - val_loss: 370.4234 - val_mae: 15.1151\n",
    "Epoch 4/25\n",
    "356/356 - 39s - loss: 130.3740 - mae: 8.7432 - val_loss: 129.4438 - val_mae: 9.1407\n",
    "Epoch 5/25\n",
    "356/356 - 39s - loss: 116.9252 - mae: 8.2403 - val_loss: 138.8261 - val_mae: 8.8689\n",
    "Epoch 6/25\n",
    "356/356 - 39s - loss: 101.6428 - mae: 7.6962 - val_loss: 244.3463 - val_mae: 11.4223\n",
    "Epoch 7/25\n",
    "356/356 - 38s - loss: 96.0290 - mae: 7.5146 - val_loss: 514.7434 - val_mae: 18.1448\n",
    "Epoch 8/25\n",
    "356/356 - 39s - loss: 85.2892 - mae: 7.0706 - val_loss: 132.6884 - val_mae: 8.6782\n",
    "Epoch 9/25\n",
    "356/356 - 39s - loss: 75.2064 - mae: 6.6712 - val_loss: 113.0723 - val_mae: 8.1092\n",
    "Epoch 10/25\n",
    "356/356 - 39s - loss: 67.0338 - mae: 6.2820 - val_loss: 111.1809 - val_mae: 8.2172\n",
    "Epoch 11/25\n",
    "356/356 - 39s - loss: 57.7781 - mae: 5.8838 - val_loss: 116.7400 - val_mae: 8.0286\n",
    "Epoch 12/25\n",
    "356/356 - 38s - loss: 54.4810 - mae: 5.6958 - val_loss: 236.6950 - val_mae: 11.7176\n",
    "Epoch 13/25\n",
    "356/356 - 39s - loss: 46.0825 - mae: 5.2491 - val_loss: 136.0214 - val_mae: 8.9079\n",
    "Epoch 14/25\n",
    "356/356 - 38s - loss: 43.9827 - mae: 5.1589 - val_loss: 114.4340 - val_mae: 8.0582\n",
    "Epoch 15/25\n",
    "356/356 - 39s - loss: 37.3860 - mae: 4.7869 - val_loss: 115.8471 - val_mae: 8.0811\n",
    "Epoch 16/25\n",
    "356/356 - 39s - loss: 32.5924 - mae: 4.4232 - val_loss: 127.7810 - val_mae: 8.4615\n",
    "Epoch 17/25\n",
    "356/356 - 38s - loss: 34.1363 - mae: 4.4992 - val_loss: 107.0655 - val_mae: 7.8909\n",
    "Epoch 18/25\n",
    "356/356 - 39s - loss: 31.0435 - mae: 4.3073 - val_loss: 132.2309 - val_mae: 9.1051\n",
    "Epoch 19/25\n",
    "356/356 - 39s - loss: 30.5472 - mae: 4.2572 - val_loss: 105.9296 - val_mae: 7.8315\n",
    "Epoch 20/25\n",
    "356/356 - 39s - loss: 25.4405 - mae: 3.9081 - val_loss: 102.3604 - val_mae: 7.7243\n",
    "Epoch 21/25\n",
    "356/356 - 40s - loss: 23.0493 - mae: 3.7161 - val_loss: 106.1661 - val_mae: 7.6770\n",
    "Epoch 22/25\n",
    "356/356 - 39s - loss: 19.9072 - mae: 3.4614 - val_loss: 101.7088 - val_mae: 7.4483\n",
    "Epoch 23/25\n",
    "356/356 - 39s - loss: 22.2707 - mae: 3.6413 - val_loss: 152.4810 - val_mae: 9.2975\n",
    "Epoch 24/25\n",
    "356/356 - 39s - loss: 23.8701 - mae: 3.7821 - val_loss: 128.9318 - val_mae: 8.4514\n",
    "Epoch 25/25\n",
    "356/356 - 39s - loss: 20.9267 - mae: 3.5141 - val_loss: 99.3475 - val_mae: 7.4452\n",
    "WARNING:tensorflow:sample_weight modes were coerced from\n",
    "  ...\n",
    "    to  \n",
    "  ['...']\n",
    "119/119 - 10s - loss: 99.3475 - mae: 7.4452\n",
    "Test MAE: 7.4452\n",
    "```"
   ]
  },
  {
   "cell_type": "markdown",
   "metadata": {},
   "source": [
    "<div class=\"alert alert-warning\">\n",
    "<b>Комментарий ревьюера</b>\n",
    "\n",
    "Результат для 15 эпох не очень хороший. Возможно это связано с тем, что не задана функции активации. Переучивать модель в тренажере сложно и обычно это делается через техподдержку, поэтому можно оставить текущий вывод.\n",
    "</div>"
   ]
  },
  {
   "cell_type": "markdown",
   "metadata": {},
   "source": [
    "<div class=\"alert alert-block alert-info\">\n",
    "\n",
    "Модель я все-таки переобучил) \n",
    "\n",
    "Активацию в модель ввел, переобучил на 25 эпохах. \n",
    "Когда активации не было (т.е. линейная) было MAE 7,98 на 15 эпохах, с 'relu' на 25 эпохах стало 7.4452.\n",
    "    \n",
    "</div>"
   ]
  },
  {
   "cell_type": "markdown",
   "metadata": {},
   "source": [
    "<div class=\"alert alert-success\">\n",
    "<b>Комментарий ревьюера 2</b>\n",
    "\n",
    "Отлично, что переобучил, как в прямом, так и в переносном смысле :) Обрати внимание на большую разницу между тестовыми и тренировочными значениями метрик. Это говорит о склонности модели к переобучению. Можно это отметить в выводе. В данном проекте оно почти всегда возникает из-за особенностей данных.\n",
    "</div>"
   ]
  },
  {
   "cell_type": "markdown",
   "metadata": {},
   "source": [
    "## Анализ обученной модели"
   ]
  },
  {
   "cell_type": "markdown",
   "metadata": {},
   "source": [
    "В предоставленном датасете содержится 7591 изображение людей с индикатором точного возраста.\n",
    "Наибольшее количество изображений людей в интервале 18-35 лет.\n",
    "\n",
    "В обучении была использована предобученная модель ResNet50 с оптимизатором Adam и learning rate 0.0009. По завершении 25 эпох обучения, модель показала MAE 7.44 на тестовой выборке.\n",
    "\n",
    "Если стоит задача контроля продажи спиртного, то, возможно, датасет нужно расширить фотографиями молодых людей от 13 до 25 лет и обучить модель еще раз для лучшего показателя эффективности модели в данной \"группе риска\"."
   ]
  },
  {
   "cell_type": "markdown",
   "metadata": {},
   "source": [
    "<div class=\"alert alert-info\">\n",
    "<b>Итоговый комментарий ревьюера</b>\n",
    "\n",
    "Отличный проект и вывод. Остались несколько моментов: вывод по 1 разделу и ответить на вопрос про активацию. Буду ждать новую версию.\n",
    "<hr>\n",
    "</div>"
   ]
  },
  {
   "cell_type": "markdown",
   "metadata": {},
   "source": [
    "<div class=\"alert alert-info\">\n",
    "<b>Итоговый комментарий ревьюера 2</b>\n",
    "\n",
    "Поздравляю с успешной подготовкой проекта. Данная тема достаточно обширная для одного спринта. Перед нами стояла задача понять основы для более глубокого погружения. Рекомендую ознакомиться с фреймворком <a href=\"https://pytorch.org/\">PyTorch</a>. Желаю успехов в финальном спринте и профессии!\n",
    "\n",
    "<hr>\n",
    "</div>"
   ]
  },
  {
   "cell_type": "markdown",
   "metadata": {},
   "source": [
    "## Чек-лист"
   ]
  },
  {
   "cell_type": "markdown",
   "metadata": {},
   "source": [
    "- [x]  Jupyter Notebook открыт\n",
    "- [x]  Весь код выполняется без ошибок\n",
    "- [x]  Ячейки с кодом расположены в порядке исполнения\n",
    "- [x]  Исследовательский анализ данных выполнен\n",
    "- [x]  Результаты исследовательского анализа данных перенесены в финальную тетрадь\n",
    "- [x]  MAE модели не больше 8\n",
    "- [x]  Код обучения модели скопирован в финальную тетрадь\n",
    "- [x]  Результат вывода модели на экран перенесён в финальную тетрадь\n",
    "- [x]  По итогам обучения модели сделаны выводы"
   ]
  },
  {
   "cell_type": "code",
   "execution_count": null,
   "metadata": {},
   "outputs": [],
   "source": []
  }
 ],
 "metadata": {
  "ExecuteTimeLog": [
   {
    "duration": 5381,
    "start_time": "2021-09-08T18:46:07.376Z"
   },
   {
    "duration": 81171,
    "start_time": "2021-09-08T18:46:20.700Z"
   },
   {
    "duration": 10,
    "start_time": "2021-09-08T18:47:50.248Z"
   },
   {
    "duration": 16,
    "start_time": "2021-09-08T18:48:00.338Z"
   },
   {
    "duration": 404,
    "start_time": "2021-09-08T18:48:12.103Z"
   },
   {
    "duration": 579,
    "start_time": "2021-09-08T18:48:25.577Z"
   },
   {
    "duration": 2837,
    "start_time": "2021-09-08T18:48:35.001Z"
   },
   {
    "duration": 5336,
    "start_time": "2021-09-09T19:47:42.019Z"
   },
   {
    "duration": 84264,
    "start_time": "2021-09-09T19:47:47.357Z"
   },
   {
    "duration": 9,
    "start_time": "2021-09-09T19:49:11.624Z"
   },
   {
    "duration": 17,
    "start_time": "2021-09-09T19:49:11.636Z"
   },
   {
    "duration": 413,
    "start_time": "2021-09-09T19:49:11.656Z"
   },
   {
    "duration": 527,
    "start_time": "2021-09-09T19:49:12.072Z"
   },
   {
    "duration": 2979,
    "start_time": "2021-09-09T19:49:12.602Z"
   },
   {
    "duration": 544,
    "start_time": "2021-09-09T19:49:28.325Z"
   },
   {
    "duration": 3042,
    "start_time": "2021-09-09T19:58:08.633Z"
   },
   {
    "duration": 1279,
    "start_time": "2021-09-09T19:58:42.781Z"
   },
   {
    "duration": 2791,
    "start_time": "2021-09-09T19:59:14.908Z"
   },
   {
    "duration": 119,
    "start_time": "2021-09-09T20:00:03.112Z"
   },
   {
    "duration": 125,
    "start_time": "2021-09-09T20:00:48.546Z"
   },
   {
    "duration": 154,
    "start_time": "2021-09-09T20:00:53.702Z"
   },
   {
    "duration": 124,
    "start_time": "2021-09-09T20:00:58.618Z"
   },
   {
    "duration": 106,
    "start_time": "2021-09-09T20:01:03.297Z"
   },
   {
    "duration": 2790,
    "start_time": "2021-09-09T20:01:24.310Z"
   },
   {
    "duration": 719,
    "start_time": "2021-09-09T20:01:59.994Z"
   },
   {
    "duration": 334,
    "start_time": "2021-09-09T20:06:44.095Z"
   },
   {
    "duration": 341,
    "start_time": "2021-09-09T20:06:49.377Z"
   },
   {
    "duration": 3016,
    "start_time": "2021-09-09T20:07:16.392Z"
   },
   {
    "duration": 1485,
    "start_time": "2021-09-09T20:07:52.959Z"
   },
   {
    "duration": 1224,
    "start_time": "2021-09-09T20:08:10.460Z"
   },
   {
    "duration": 2973,
    "start_time": "2021-09-09T20:08:16.045Z"
   },
   {
    "duration": 292,
    "start_time": "2021-09-09T20:24:55.028Z"
   },
   {
    "duration": 4592,
    "start_time": "2021-09-14T07:21:42.775Z"
   }
  ],
  "celltoolbar": "Raw Cell Format",
  "kernelspec": {
   "display_name": "Python 3",
   "language": "python",
   "name": "python3"
  },
  "language_info": {
   "codemirror_mode": {
    "name": "ipython",
    "version": 3
   },
   "file_extension": ".py",
   "mimetype": "text/x-python",
   "name": "python",
   "nbconvert_exporter": "python",
   "pygments_lexer": "ipython3",
   "version": "3.7.8"
  },
  "toc": {
   "base_numbering": 1,
   "nav_menu": {},
   "number_sections": true,
   "sideBar": true,
   "skip_h1_title": true,
   "title_cell": "Table of Contents",
   "title_sidebar": "Contents",
   "toc_cell": false,
   "toc_position": {},
   "toc_section_display": true,
   "toc_window_display": false
  }
 },
 "nbformat": 4,
 "nbformat_minor": 2
}
