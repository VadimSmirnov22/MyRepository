{
 "cells": [
  {
   "cell_type": "markdown",
   "metadata": {},
   "source": [
    "<div style=\"border: 1px solid #CCCCFF; border-radius: 1px;\">\n",
    "<div style=\"margin: 5px\">\n",
    "<b class=\"alert-heading\">Комментарий ревьюера</b>\n",
    "<p>Вадим, привет!</p>\n",
    "<p>Меня зовут Алексей Секоцкий. Поздравляю с подготовкой очередного проекта. Предлагаю обращаться друг к другу на «ты» если нет возражений. Ниже стандартный блок с условными обозначениями:</p>\n",
    "<div class=\"alert alert-success\" role=\"alert\">\n",
    "всё отлично\n",
    "</div>\n",
    "<div class=\"alert alert-warning\" role=\"alert\">\n",
    "рекомендации на будущее (не требующие доработки проекта)\n",
    "</div>\n",
    "<div class=\"alert alert-danger\" role=\"alert\">\n",
    "критичные моменты требующие внимания (доработки)\n",
    "</div>\n",
    "<div class=\"alert alert-info\">\n",
    "итоговый комментарий\n",
    "</div>\n",
    "\n",
    "<hr>\n",
    "<p>Пожалуйста, не изменяй и не удаляй мои комментарии – они потребуются для повторной проверки (при необходимости). Задавай вопросы и описывай сделанные изменения, помечая их любым удобным наглядным способом.</p>"
   ]
  },
  {
   "cell_type": "markdown",
   "metadata": {
    "toc": true
   },
   "source": [
    "<h1>Содержание<span class=\"tocSkip\"></span></h1>\n",
    "<div class=\"toc\"><ul class=\"toc-item\"><li><span><a href=\"#Загрузка-данных\" data-toc-modified-id=\"Загрузка-данных-1\"><span class=\"toc-item-num\">1&nbsp;&nbsp;</span>Загрузка данных</a></span></li><li><span><a href=\"#Умножение-матриц\" data-toc-modified-id=\"Умножение-матриц-2\"><span class=\"toc-item-num\">2&nbsp;&nbsp;</span>Умножение матриц</a></span></li><li><span><a href=\"#Алгоритм-преобразования\" data-toc-modified-id=\"Алгоритм-преобразования-3\"><span class=\"toc-item-num\">3&nbsp;&nbsp;</span>Алгоритм преобразования</a></span></li><li><span><a href=\"#Проверка-алгоритма\" data-toc-modified-id=\"Проверка-алгоритма-4\"><span class=\"toc-item-num\">4&nbsp;&nbsp;</span>Проверка алгоритма</a></span></li><li><span><a href=\"#Чек-лист-проверки\" data-toc-modified-id=\"Чек-лист-проверки-5\"><span class=\"toc-item-num\">5&nbsp;&nbsp;</span>Чек-лист проверки</a></span><ul class=\"toc-item\"><li><span><a href=\"#Задача:\" data-toc-modified-id=\"Задача:-5.1\"><span class=\"toc-item-num\">5.1&nbsp;&nbsp;</span>Задача:</a></span></li><li><span><a href=\"#Структура-проекта\" data-toc-modified-id=\"Структура-проекта-5.2\"><span class=\"toc-item-num\">5.2&nbsp;&nbsp;</span>Структура проекта</a></span></li></ul></li></ul></div>"
   ]
  },
  {
   "cell_type": "markdown",
   "metadata": {},
   "source": [
    "# Защита персональных данных клиентов"
   ]
  },
  {
   "cell_type": "markdown",
   "metadata": {},
   "source": [
    "Вам нужно защитить данные клиентов страховой компании «Хоть потоп». Разработайте такой метод преобразования данных, чтобы по ним было сложно восстановить персональную информацию. Обоснуйте корректность его работы.\n",
    "\n",
    "Нужно защитить данные, чтобы при преобразовании качество моделей машинного обучения не ухудшилось. Подбирать наилучшую модель не требуется."
   ]
  },
  {
   "cell_type": "markdown",
   "metadata": {},
   "source": [
    "## Загрузка данных"
   ]
  },
  {
   "cell_type": "code",
   "execution_count": 1,
   "metadata": {},
   "outputs": [],
   "source": [
    "import numpy as np\n",
    "import pandas as pd\n",
    "from sklearn.metrics import r2_score\n",
    "#from sklearn.linear_model import LinearRegression"
   ]
  },
  {
   "cell_type": "code",
   "execution_count": 2,
   "metadata": {},
   "outputs": [],
   "source": [
    "data = pd.read_csv('/datasets/insurance.csv')"
   ]
  },
  {
   "cell_type": "code",
   "execution_count": 3,
   "metadata": {},
   "outputs": [
    {
     "data": {
      "text/html": [
       "<div>\n",
       "<style scoped>\n",
       "    .dataframe tbody tr th:only-of-type {\n",
       "        vertical-align: middle;\n",
       "    }\n",
       "\n",
       "    .dataframe tbody tr th {\n",
       "        vertical-align: top;\n",
       "    }\n",
       "\n",
       "    .dataframe thead th {\n",
       "        text-align: right;\n",
       "    }\n",
       "</style>\n",
       "<table border=\"1\" class=\"dataframe\">\n",
       "  <thead>\n",
       "    <tr style=\"text-align: right;\">\n",
       "      <th></th>\n",
       "      <th>Пол</th>\n",
       "      <th>Возраст</th>\n",
       "      <th>Зарплата</th>\n",
       "      <th>Члены семьи</th>\n",
       "      <th>Страховые выплаты</th>\n",
       "    </tr>\n",
       "  </thead>\n",
       "  <tbody>\n",
       "    <tr>\n",
       "      <td>0</td>\n",
       "      <td>1</td>\n",
       "      <td>41.0</td>\n",
       "      <td>49600.0</td>\n",
       "      <td>1</td>\n",
       "      <td>0</td>\n",
       "    </tr>\n",
       "    <tr>\n",
       "      <td>1</td>\n",
       "      <td>0</td>\n",
       "      <td>46.0</td>\n",
       "      <td>38000.0</td>\n",
       "      <td>1</td>\n",
       "      <td>1</td>\n",
       "    </tr>\n",
       "    <tr>\n",
       "      <td>2</td>\n",
       "      <td>0</td>\n",
       "      <td>29.0</td>\n",
       "      <td>21000.0</td>\n",
       "      <td>0</td>\n",
       "      <td>0</td>\n",
       "    </tr>\n",
       "    <tr>\n",
       "      <td>3</td>\n",
       "      <td>0</td>\n",
       "      <td>21.0</td>\n",
       "      <td>41700.0</td>\n",
       "      <td>2</td>\n",
       "      <td>0</td>\n",
       "    </tr>\n",
       "    <tr>\n",
       "      <td>4</td>\n",
       "      <td>1</td>\n",
       "      <td>28.0</td>\n",
       "      <td>26100.0</td>\n",
       "      <td>0</td>\n",
       "      <td>0</td>\n",
       "    </tr>\n",
       "  </tbody>\n",
       "</table>\n",
       "</div>"
      ],
      "text/plain": [
       "   Пол  Возраст  Зарплата  Члены семьи  Страховые выплаты\n",
       "0    1     41.0   49600.0            1                  0\n",
       "1    0     46.0   38000.0            1                  1\n",
       "2    0     29.0   21000.0            0                  0\n",
       "3    0     21.0   41700.0            2                  0\n",
       "4    1     28.0   26100.0            0                  0"
      ]
     },
     "execution_count": 3,
     "metadata": {},
     "output_type": "execute_result"
    }
   ],
   "source": [
    "data.head()"
   ]
  },
  {
   "cell_type": "code",
   "execution_count": 4,
   "metadata": {},
   "outputs": [],
   "source": [
    "features = data.drop('Страховые выплаты', axis=1)\n",
    "target = data['Страховые выплаты']"
   ]
  },
  {
   "cell_type": "code",
   "execution_count": 5,
   "metadata": {},
   "outputs": [
    {
     "data": {
      "text/plain": [
       "(5000, 4)"
      ]
     },
     "execution_count": 5,
     "metadata": {},
     "output_type": "execute_result"
    }
   ],
   "source": [
    "features.shape"
   ]
  },
  {
   "cell_type": "markdown",
   "metadata": {},
   "source": [
    "<div class=\"alert alert-success\">\n",
    "<b>Комментарий ревьюера</b>\n",
    "\n",
    "Отлично. Данные загружены и изучены.\n",
    "</div>"
   ]
  },
  {
   "cell_type": "code",
   "execution_count": 6,
   "metadata": {},
   "outputs": [],
   "source": [
    "class LinearRegression:\n",
    "    def fit(self, train_features, train_target):\n",
    "        X = np.concatenate((np.ones((train_features.shape[0], 1)), train_features), axis=1)\n",
    "        y = train_target\n",
    "        w = np.linalg.inv(X.T.dot(X)).dot(X.T).dot(y)\n",
    "        self.w = w[1:]\n",
    "        self.w0 = w[0]\n",
    "\n",
    "    def predict(self, test_features):\n",
    "        return test_features.dot(self.w) + self.w0"
   ]
  },
  {
   "cell_type": "code",
   "execution_count": 7,
   "metadata": {},
   "outputs": [
    {
     "name": "stdout",
     "output_type": "stream",
     "text": [
      "0.42494550286668\n"
     ]
    }
   ],
   "source": [
    "model = LinearRegression()\n",
    "model.fit(features, target)\n",
    "predictions = model.predict(features)\n",
    "print(r2_score(target, predictions))"
   ]
  },
  {
   "cell_type": "code",
   "execution_count": 8,
   "metadata": {
    "scrolled": true
   },
   "outputs": [
    {
     "data": {
      "text/plain": [
       "array([[0.02298146, 0.32326339, 0.82288156, 0.08199258],\n",
       "       [0.91351968, 0.67873161, 0.887689  , 0.63966969],\n",
       "       [0.03504928, 0.66262399, 0.8969751 , 0.65172647],\n",
       "       [0.99569968, 0.82260981, 0.7659769 , 0.3445032 ]])"
      ]
     },
     "execution_count": 8,
     "metadata": {},
     "output_type": "execute_result"
    }
   ],
   "source": [
    "matrix = np.random.rand(4,4)\n",
    "matrix"
   ]
  },
  {
   "cell_type": "markdown",
   "metadata": {},
   "source": [
    "<div class=\"alert alert-warning\">\n",
    "<b>Комментарий ревьюера</b>\n",
    "\n",
    "При генерации матрицы желательно использовать seed (random_state) для ее воспроизводимости.\n",
    "</div>"
   ]
  },
  {
   "cell_type": "code",
   "execution_count": 9,
   "metadata": {
    "scrolled": true
   },
   "outputs": [
    {
     "data": {
      "text/plain": [
       "array([[ 0.02240528,  1.2319099 , -1.16681737, -0.0853598 ],\n",
       "       [-1.15784696, -3.19573273,  1.7508882 ,  2.89706466],\n",
       "       [ 1.79899828,  1.04752164, -0.7382399 , -0.97660014],\n",
       "       [-1.29996986,  1.74120715,  0.83301571, -1.5968152 ]])"
      ]
     },
     "execution_count": 9,
     "metadata": {},
     "output_type": "execute_result"
    }
   ],
   "source": [
    "np.linalg.inv(matrix)"
   ]
  },
  {
   "cell_type": "markdown",
   "metadata": {},
   "source": [
    "<div class=\"alert alert-warning\">\n",
    "<b>Комментарий ревьюера</b>\n",
    "\n",
    "Весь код нужно перенести в 4 раздел.\n",
    "</div>"
   ]
  },
  {
   "cell_type": "markdown",
   "metadata": {},
   "source": [
    "## Умножение матриц"
   ]
  },
  {
   "cell_type": "code",
   "execution_count": 10,
   "metadata": {
    "scrolled": true
   },
   "outputs": [
    {
     "data": {
      "text/html": [
       "<div>\n",
       "<style scoped>\n",
       "    .dataframe tbody tr th:only-of-type {\n",
       "        vertical-align: middle;\n",
       "    }\n",
       "\n",
       "    .dataframe tbody tr th {\n",
       "        vertical-align: top;\n",
       "    }\n",
       "\n",
       "    .dataframe thead th {\n",
       "        text-align: right;\n",
       "    }\n",
       "</style>\n",
       "<table border=\"1\" class=\"dataframe\">\n",
       "  <thead>\n",
       "    <tr style=\"text-align: right;\">\n",
       "      <th></th>\n",
       "      <th>0</th>\n",
       "      <th>1</th>\n",
       "      <th>2</th>\n",
       "      <th>3</th>\n",
       "    </tr>\n",
       "  </thead>\n",
       "  <tbody>\n",
       "    <tr>\n",
       "      <td>0</td>\n",
       "      <td>1776.917459</td>\n",
       "      <td>32895.123951</td>\n",
       "      <td>44527.949141</td>\n",
       "      <td>32352.285975</td>\n",
       "    </tr>\n",
       "    <tr>\n",
       "      <td>1</td>\n",
       "      <td>1374.890385</td>\n",
       "      <td>25211.756020</td>\n",
       "      <td>34126.653528</td>\n",
       "      <td>24795.375253</td>\n",
       "    </tr>\n",
       "    <tr>\n",
       "      <td>2</td>\n",
       "      <td>762.527028</td>\n",
       "      <td>13934.787082</td>\n",
       "      <td>18862.220112</td>\n",
       "      <td>13704.806337</td>\n",
       "    </tr>\n",
       "    <tr>\n",
       "      <td>3</td>\n",
       "      <td>1482.730443</td>\n",
       "      <td>27647.319116</td>\n",
       "      <td>37424.035155</td>\n",
       "      <td>27191.115961</td>\n",
       "    </tr>\n",
       "    <tr>\n",
       "      <td>4</td>\n",
       "      <td>940.387837</td>\n",
       "      <td>17313.813981</td>\n",
       "      <td>23436.728322</td>\n",
       "      <td>17028.053669</td>\n",
       "    </tr>\n",
       "  </tbody>\n",
       "</table>\n",
       "</div>"
      ],
      "text/plain": [
       "             0             1             2             3\n",
       "0  1776.917459  32895.123951  44527.949141  32352.285975\n",
       "1  1374.890385  25211.756020  34126.653528  24795.375253\n",
       "2   762.527028  13934.787082  18862.220112  13704.806337\n",
       "3  1482.730443  27647.319116  37424.035155  27191.115961\n",
       "4   940.387837  17313.813981  23436.728322  17028.053669"
      ]
     },
     "execution_count": 10,
     "metadata": {},
     "output_type": "execute_result"
    }
   ],
   "source": [
    "features_matrix = features @ matrix\n",
    "features_matrix.head()"
   ]
  },
  {
   "cell_type": "markdown",
   "metadata": {},
   "source": [
    "Обозначения:\n",
    "\n",
    "- $X$ — матрица признаков (нулевой столбец состоит из единиц)\n",
    "\n",
    "- $y$ — вектор целевого признака\n",
    "\n",
    "- $P$ — матрица, на которую умножаются признаки\n",
    "\n",
    "- $w$ — вектор весов линейной регрессии (нулевой элемент равен сдвигу)"
   ]
  },
  {
   "cell_type": "markdown",
   "metadata": {},
   "source": [
    "$$\n",
    "Условие:\n",
    "$$\n",
    "Предсказания:\n",
    "\n",
    "$$\n",
    "a = Xw\n",
    "$$\n",
    "\n",
    "Задача обучения:\n",
    "\n",
    "$$\n",
    "w = \\arg\\min_w MSE(Xw, y)\n",
    "$$\n",
    "\n",
    "Формула обучения:\n",
    "\n",
    "$$\n",
    "w = (X^T X)^{-1} X^T y\n",
    "$$"
   ]
  },
  {
   "cell_type": "markdown",
   "metadata": {},
   "source": [
    "$$\n",
    "Доказательство\n",
    "$$\n",
    "\n",
    "$$\n",
    "w1 = ((XP)^T XP))^{-1} (XP)^T y\n",
    "$$\n",
    "$$\n",
    "w1 = (P^T X^T  XP)^{-1} (XP)^T y\n",
    "$$\n",
    "$$\n",
    "w1 = (P^T)^{-1} (X^TX)^{-1} (P)^{-1} P^T X^T  y\n",
    "$$\n",
    "$$\n",
    "w1 = E (X^TX)^{-1}  (P)^{-1} X^T y\n",
    "$$\n",
    "$$\n",
    "w1 = (P)^{-1}w\n",
    "$$\n",
    "\n",
    "$$\n",
    "a1 = XP w1\n",
    "$$\n",
    "\n",
    "$$\n",
    "a1 = XP (P)^{-1} w\n",
    "$$\n",
    "$$\n",
    "a1 = Xw = a\n",
    "$$"
   ]
  },
  {
   "cell_type": "markdown",
   "metadata": {},
   "source": [
    "Как видно из доказательства новые предсказания будут равны старым предсказаниям, если домножить матрицу признаков на случайную обратимую матрицу."
   ]
  },
  {
   "cell_type": "markdown",
   "metadata": {},
   "source": [
    "<div class=\"alert alert-success\">\n",
    "<b>Комментарий ревьюера</b>\n",
    "\n",
    "Доказательство верное. Весь код необходимо перенести в 4 раздел – проверка работы алгоритма у нас там. В данном разделе только теория.\n",
    "</div>"
   ]
  },
  {
   "cell_type": "markdown",
   "metadata": {},
   "source": [
    "## Алгоритм преобразования"
   ]
  },
  {
   "cell_type": "markdown",
   "metadata": {},
   "source": [
    "1. Генерируем случайную квадратную матрицу\n",
    "2. Проверяем случайную матрицу на обратимость. В случае, если матрица необратима, ее определитель равен нулю, что нам не подходит.\n",
    "3. Домножаем случайную обратимую матрицу на признаки\n",
    "4. Новой матрицей обучаем модель\n",
    "5. Генерируем предсказания \n",
    "6. Сравниваем метрики R2. Если качесво не ухудшилось - все в порядке."
   ]
  },
  {
   "cell_type": "markdown",
   "metadata": {},
   "source": [
    "<div class=\"alert alert-success\">\n",
    "<b>Комментарий ревьюера</b>\n",
    "\n",
    "Верно!\n",
    "</div>"
   ]
  },
  {
   "cell_type": "markdown",
   "metadata": {},
   "source": [
    "## Проверка алгоритма"
   ]
  },
  {
   "cell_type": "code",
   "execution_count": 11,
   "metadata": {},
   "outputs": [
    {
     "data": {
      "text/plain": [
       "array([[0.89955339, 0.04821   , 0.40684417, 0.05130718],\n",
       "       [0.54395291, 0.783269  , 0.14018981, 0.30667399],\n",
       "       [0.38095576, 0.28084645, 0.12342341, 0.1414648 ],\n",
       "       [0.73943153, 0.70942707, 0.78537828, 0.00952799]])"
      ]
     },
     "execution_count": 11,
     "metadata": {},
     "output_type": "execute_result"
    }
   ],
   "source": [
    "matrix_2 = np.random.rand(4,4)\n",
    "matrix_2"
   ]
  },
  {
   "cell_type": "code",
   "execution_count": 12,
   "metadata": {
    "scrolled": true
   },
   "outputs": [
    {
     "data": {
      "text/plain": [
       "array([[  4.68228211,   6.11120923, -14.86688074,  -1.18002665],\n",
       "       [  2.68448354,   6.98050544, -16.09910465,  -0.10664387],\n",
       "       [ -6.68637951, -11.81642644,  27.87518847,   2.4655714 ],\n",
       "       [-12.10487858, -20.00587306,  54.74541577,   1.23832407]])"
      ]
     },
     "execution_count": 12,
     "metadata": {},
     "output_type": "execute_result"
    }
   ],
   "source": [
    "np.linalg.inv(matrix_2)"
   ]
  },
  {
   "cell_type": "code",
   "execution_count": 13,
   "metadata": {},
   "outputs": [],
   "source": [
    "features_2_matrix = features @ matrix_2"
   ]
  },
  {
   "cell_type": "code",
   "execution_count": 14,
   "metadata": {},
   "outputs": [
    {
     "name": "stdout",
     "output_type": "stream",
     "text": [
      "0.42494550286573674\n"
     ]
    }
   ],
   "source": [
    "model_2 = LinearRegression()\n",
    "model_2.fit(features_2_matrix, target)\n",
    "predictions_2 = model_2.predict(features_2_matrix)\n",
    "print(r2_score(target, predictions_2))"
   ]
  },
  {
   "cell_type": "markdown",
   "metadata": {},
   "source": [
    "<div class=\"alert alert-success\">\n",
    "<b>Комментарий ревьюера</b>\n",
    "\n",
    "Верно! Собери весь код в данном разделе, пожалуйста.\n",
    "</div>"
   ]
  },
  {
   "cell_type": "markdown",
   "metadata": {},
   "source": [
    "<div class=\"alert alert-info\">\n",
    "<b>Итоговый комментарий ревьюера</b>\n",
    "\n",
    "Отличный проект! Вспомнили свойства матриц, вывели формулу и освоили алгоритм шифрования. Желаю успехов в дальнейшем обучении! Впереди еще будут интересные задачи!\n",
    "<hr>\n",
    "</div>"
   ]
  },
  {
   "cell_type": "markdown",
   "metadata": {},
   "source": [
    "## Чек-лист проверки"
   ]
  },
  {
   "cell_type": "markdown",
   "metadata": {},
   "source": [
    "Поставьте 'x' в выполненных пунктах. Далее нажмите Shift+Enter."
   ]
  },
  {
   "cell_type": "markdown",
   "metadata": {},
   "source": [
    "- [x]  Jupyter Notebook открыт\n",
    "- [x]  Весь код выполняется без ошибок\n",
    "- [x]  Ячейки с кодом расположены в порядке исполнения\n",
    "- [x]  Выполнен шаг 1: данные загружены\n",
    "- [x]  Выполнен шаг 2: получен ответ на вопрос об умножении матриц\n",
    "    - [x]  Указан правильный вариант ответа\n",
    "    - [x]  Вариант обоснован\n",
    "- [x]  Выполнен шаг 3: предложен алгоритм преобразования\n",
    "    - [x]  Алгоритм описан\n",
    "    - [x]  Алгоритм обоснован\n",
    "- [x]  Выполнен шаг 4: алгоритм проверен\n",
    "    - [x]  Алгоритм реализован\n",
    "    - [x]  Проведено сравнение качества моделей до и после преобразования"
   ]
  },
  {
   "cell_type": "markdown",
   "metadata": {},
   "source": [
    "### Задача:\n",
    "Разработать алгоритм защиты данных клиентов таким образом, чтобы качество модели машинного обучения не ухудшилось.\n",
    "В качестве метрики качества используется R2. В качестве модели машинного обучения используется LinearRegression\n",
    "\n",
    "### Структура проекта\n",
    "* Загрузка данных\n",
    "* Умножение матриц / математическое обоснование решения\n",
    "* Алгоритм преобразования\n",
    "* Проверка алгоритма"
   ]
  },
  {
   "cell_type": "code",
   "execution_count": null,
   "metadata": {},
   "outputs": [],
   "source": []
  }
 ],
 "metadata": {
  "ExecuteTimeLog": [
   {
    "duration": 1297,
    "start_time": "2021-06-20T10:13:43.611Z"
   },
   {
    "duration": 29,
    "start_time": "2021-06-20T10:13:44.910Z"
   },
   {
    "duration": 29,
    "start_time": "2021-06-20T10:13:44.943Z"
   },
   {
    "duration": 5,
    "start_time": "2021-06-20T10:13:44.975Z"
   },
   {
    "duration": 8,
    "start_time": "2021-06-20T10:13:44.982Z"
   },
   {
    "duration": 6,
    "start_time": "2021-06-20T10:13:44.992Z"
   },
   {
    "duration": 100,
    "start_time": "2021-06-20T10:13:45.009Z"
   },
   {
    "duration": 99,
    "start_time": "2021-06-20T10:13:45.114Z"
   },
   {
    "duration": 10,
    "start_time": "2021-06-20T10:13:45.217Z"
   },
   {
    "duration": 87,
    "start_time": "2021-06-20T10:13:45.230Z"
   },
   {
    "duration": 9,
    "start_time": "2021-06-20T10:13:45.320Z"
   },
   {
    "duration": 17,
    "start_time": "2021-06-20T10:13:45.410Z"
   },
   {
    "duration": 83,
    "start_time": "2021-06-20T10:13:45.430Z"
   },
   {
    "duration": 99,
    "start_time": "2021-06-20T10:13:45.516Z"
   },
   {
    "duration": 4,
    "start_time": "2021-06-20T10:24:25.117Z"
   },
   {
    "duration": 34,
    "start_time": "2021-06-20T10:24:25.124Z"
   },
   {
    "duration": 14,
    "start_time": "2021-06-20T10:24:25.161Z"
   },
   {
    "duration": 7,
    "start_time": "2021-06-20T10:24:25.178Z"
   },
   {
    "duration": 9,
    "start_time": "2021-06-20T10:24:25.187Z"
   },
   {
    "duration": 14,
    "start_time": "2021-06-20T10:24:25.199Z"
   },
   {
    "duration": 13,
    "start_time": "2021-06-20T10:24:25.217Z"
   },
   {
    "duration": 97,
    "start_time": "2021-06-20T10:24:25.312Z"
   },
   {
    "duration": 8,
    "start_time": "2021-06-20T10:24:25.412Z"
   },
   {
    "duration": 95,
    "start_time": "2021-06-20T10:24:25.423Z"
   },
   {
    "duration": 88,
    "start_time": "2021-06-20T10:24:25.522Z"
   },
   {
    "duration": 10,
    "start_time": "2021-06-20T10:24:25.613Z"
   },
   {
    "duration": 83,
    "start_time": "2021-06-20T10:24:25.626Z"
   },
   {
    "duration": 103,
    "start_time": "2021-06-20T10:24:25.713Z"
   },
   {
    "duration": 922,
    "start_time": "2021-09-14T06:55:37.749Z"
   },
   {
    "duration": 67,
    "start_time": "2021-09-14T06:55:38.673Z"
   },
   {
    "duration": 15,
    "start_time": "2021-09-14T06:55:38.742Z"
   },
   {
    "duration": 12,
    "start_time": "2021-09-14T06:55:38.759Z"
   },
   {
    "duration": 26,
    "start_time": "2021-09-14T06:55:38.773Z"
   },
   {
    "duration": 10,
    "start_time": "2021-09-14T06:55:38.801Z"
   },
   {
    "duration": 72,
    "start_time": "2021-09-14T06:55:38.812Z"
   },
   {
    "duration": 102,
    "start_time": "2021-09-14T06:55:38.886Z"
   },
   {
    "duration": 9,
    "start_time": "2021-09-14T06:55:38.990Z"
   },
   {
    "duration": 85,
    "start_time": "2021-09-14T06:55:39.001Z"
   },
   {
    "duration": 6,
    "start_time": "2021-09-14T06:55:39.088Z"
   },
   {
    "duration": 6,
    "start_time": "2021-09-14T06:55:39.096Z"
   },
   {
    "duration": 85,
    "start_time": "2021-09-14T06:55:39.103Z"
   },
   {
    "duration": 94,
    "start_time": "2021-09-14T06:55:39.190Z"
   }
  ],
  "kernelspec": {
   "display_name": "Python 3",
   "language": "python",
   "name": "python3"
  },
  "language_info": {
   "codemirror_mode": {
    "name": "ipython",
    "version": 3
   },
   "file_extension": ".py",
   "mimetype": "text/x-python",
   "name": "python",
   "nbconvert_exporter": "python",
   "pygments_lexer": "ipython3",
   "version": "3.7.8"
  },
  "toc": {
   "base_numbering": 1,
   "nav_menu": {},
   "number_sections": true,
   "sideBar": true,
   "skip_h1_title": true,
   "title_cell": "Содержание",
   "title_sidebar": "Contents",
   "toc_cell": true,
   "toc_position": {
    "height": "calc(100% - 180px)",
    "left": "10px",
    "top": "150px",
    "width": "165px"
   },
   "toc_section_display": true,
   "toc_window_display": false
  }
 },
 "nbformat": 4,
 "nbformat_minor": 2
}
