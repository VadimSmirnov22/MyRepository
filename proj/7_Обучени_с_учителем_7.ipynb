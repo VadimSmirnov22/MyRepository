{
 "cells": [
  {
   "cell_type": "markdown",
   "metadata": {},
   "source": [
    "Привет! Меня зовут Валерий Гриднев, я провожу ревью твоей работы. Предлагаю общаться на «ты», если не против.\n",
    "\n",
    "В работе ты увидишь комментарии, помеченные разным цветом.\n",
    "\n",
    "<div class=\"alert alert-success\">\n",
    "Зеленым цветом помечены оброзцовые решения. Которые можно использовать в дальнейшем.\n",
    "</div>\n",
    "\n",
    "<div class=\"alert alert-warning\">\n",
    "Желтым цветом отмечено то, что ты можешь улучшить или доработать. Можешь учесть это при выполнении следующих работ или доработать проект сейчас, но это не обязательно.\n",
    "</div>\n",
    "\n",
    "<div class=\"alert alert-danger\">\n",
    "Красным цветом помечены моменты, которые необходимо доработать, чтобы проект был принят. Уверен, что у тебя все получится. Буду ждать твою работу на повторное ревью. \n",
    "</div>\n",
    "\n",
    "Будет комфортнее работать над проектом вместе, если ты будешь **писать об изменениях** в проекте по моим рекомендациям. Для этого выбери для своих комментариев \n",
    "\n",
    "<div class=\"alert alert-block alert-info\">заметный цвет</div>\n",
    "\n",
    "Пожалуйста, **не перемещай, не изменяй и не удаляй мои комментарии**. Всё это поможет выполнить повторную проверку твоего проекта оперативнее.\n",
    "___"
   ]
  },
  {
   "cell_type": "markdown",
   "metadata": {},
   "source": [
    "<div class=\"alert alert-block alert-info\">\n",
    "Привет, Валерий! Спасибо за замечания - очень по делу! Исправил)</div>"
   ]
  },
  {
   "cell_type": "markdown",
   "metadata": {},
   "source": [
    "<div class=\"alert alert-success\">\n",
    "    \n",
    "**Комментарий ревьюера v_2**\n",
    "    \n",
    "Спасибо за оперативность, сейчас посмотрим)\n",
    "</div>"
   ]
  },
  {
   "cell_type": "markdown",
   "metadata": {},
   "source": [
    "<div class=\"alert alert-block alert-info\">\n",
    "Валерий, вопрос оставил внизу)"
   ]
  },
  {
   "cell_type": "markdown",
   "metadata": {},
   "source": [
    "# Отток клиентов"
   ]
  },
  {
   "cell_type": "markdown",
   "metadata": {},
   "source": [
    "Из «Бета-Банка» стали уходить клиенты. Каждый месяц. Немного, но заметно. Банковские маркетологи посчитали: сохранять текущих клиентов дешевле, чем привлекать новых.\n",
    "\n",
    "Нужно спрогнозировать, уйдёт клиент из банка в ближайшее время или нет. Вам предоставлены исторические данные о поведении клиентов и расторжении договоров с банком. \n",
    "\n",
    "Постройте модель с предельно большим значением *F1*-меры. Чтобы сдать проект успешно, нужно довести метрику до 0.59. Проверьте *F1*-меру на тестовой выборке самостоятельно.\n",
    "\n",
    "Дополнительно измеряйте *AUC-ROC*, сравнивайте её значение с *F1*-мерой.\n",
    "\n",
    "Источник данных: [https://www.kaggle.com/barelydedicated/bank-customer-churn-modeling](https://www.kaggle.com/barelydedicated/bank-customer-churn-modeling)"
   ]
  },
  {
   "cell_type": "markdown",
   "metadata": {},
   "source": [
    "# Структура проекта\n",
    "* [Подготовка данных](#section_1)\n",
    "* [Исследование задачи](#section_2)\n",
    "* [Борьба с дисбалансом](#section_3)\n",
    "* [Тестирование моделей](#section_4)\n",
    "* [Выводы](#section_5)"
   ]
  },
  {
   "cell_type": "markdown",
   "metadata": {},
   "source": [
    "<a id='section_1'></a>"
   ]
  },
  {
   "cell_type": "markdown",
   "metadata": {},
   "source": [
    "# 1. Подготовка данных"
   ]
  },
  {
   "cell_type": "code",
   "execution_count": 1,
   "metadata": {},
   "outputs": [],
   "source": [
    "import pandas as pd\n",
    "import numpy as np\n",
    "from sklearn.model_selection import train_test_split\n",
    "import matplotlib.pyplot as plt\n",
    "from sklearn.preprocessing import StandardScaler\n",
    "from sklearn.tree import DecisionTreeClassifier\n",
    "from sklearn.linear_model import LogisticRegression\n",
    "from sklearn.linear_model import LinearRegression\n",
    "from sklearn.ensemble import RandomForestClassifier\n",
    "from sklearn.metrics import accuracy_score\n",
    "from sklearn.metrics import confusion_matrix\n",
    "from sklearn.metrics import recall_score\n",
    "from sklearn.metrics import precision_score\n",
    "from sklearn.metrics import f1_score\n",
    "from sklearn.utils import shuffle\n",
    "from sklearn.metrics import precision_recall_curve\n",
    "from sklearn.metrics import roc_curve \n",
    "from sklearn.metrics import roc_auc_score\n",
    "\n",
    "\n",
    "import warnings\n",
    "warnings.filterwarnings('ignore')"
   ]
  },
  {
   "cell_type": "markdown",
   "metadata": {},
   "source": [
    "Данные загружены. Исследуем данные."
   ]
  },
  {
   "cell_type": "code",
   "execution_count": 2,
   "metadata": {
    "scrolled": false
   },
   "outputs": [
    {
     "data": {
      "text/html": [
       "<div>\n",
       "<style scoped>\n",
       "    .dataframe tbody tr th:only-of-type {\n",
       "        vertical-align: middle;\n",
       "    }\n",
       "\n",
       "    .dataframe tbody tr th {\n",
       "        vertical-align: top;\n",
       "    }\n",
       "\n",
       "    .dataframe thead th {\n",
       "        text-align: right;\n",
       "    }\n",
       "</style>\n",
       "<table border=\"1\" class=\"dataframe\">\n",
       "  <thead>\n",
       "    <tr style=\"text-align: right;\">\n",
       "      <th></th>\n",
       "      <th>RowNumber</th>\n",
       "      <th>CustomerId</th>\n",
       "      <th>Surname</th>\n",
       "      <th>CreditScore</th>\n",
       "      <th>Geography</th>\n",
       "      <th>Gender</th>\n",
       "      <th>Age</th>\n",
       "      <th>Tenure</th>\n",
       "      <th>Balance</th>\n",
       "      <th>NumOfProducts</th>\n",
       "      <th>HasCrCard</th>\n",
       "      <th>IsActiveMember</th>\n",
       "      <th>EstimatedSalary</th>\n",
       "      <th>Exited</th>\n",
       "    </tr>\n",
       "  </thead>\n",
       "  <tbody>\n",
       "    <tr>\n",
       "      <td>0</td>\n",
       "      <td>1</td>\n",
       "      <td>15634602</td>\n",
       "      <td>Hargrave</td>\n",
       "      <td>619</td>\n",
       "      <td>France</td>\n",
       "      <td>Female</td>\n",
       "      <td>42</td>\n",
       "      <td>2.0</td>\n",
       "      <td>0.00</td>\n",
       "      <td>1</td>\n",
       "      <td>1</td>\n",
       "      <td>1</td>\n",
       "      <td>101348.88</td>\n",
       "      <td>1</td>\n",
       "    </tr>\n",
       "    <tr>\n",
       "      <td>1</td>\n",
       "      <td>2</td>\n",
       "      <td>15647311</td>\n",
       "      <td>Hill</td>\n",
       "      <td>608</td>\n",
       "      <td>Spain</td>\n",
       "      <td>Female</td>\n",
       "      <td>41</td>\n",
       "      <td>1.0</td>\n",
       "      <td>83807.86</td>\n",
       "      <td>1</td>\n",
       "      <td>0</td>\n",
       "      <td>1</td>\n",
       "      <td>112542.58</td>\n",
       "      <td>0</td>\n",
       "    </tr>\n",
       "    <tr>\n",
       "      <td>2</td>\n",
       "      <td>3</td>\n",
       "      <td>15619304</td>\n",
       "      <td>Onio</td>\n",
       "      <td>502</td>\n",
       "      <td>France</td>\n",
       "      <td>Female</td>\n",
       "      <td>42</td>\n",
       "      <td>8.0</td>\n",
       "      <td>159660.80</td>\n",
       "      <td>3</td>\n",
       "      <td>1</td>\n",
       "      <td>0</td>\n",
       "      <td>113931.57</td>\n",
       "      <td>1</td>\n",
       "    </tr>\n",
       "    <tr>\n",
       "      <td>3</td>\n",
       "      <td>4</td>\n",
       "      <td>15701354</td>\n",
       "      <td>Boni</td>\n",
       "      <td>699</td>\n",
       "      <td>France</td>\n",
       "      <td>Female</td>\n",
       "      <td>39</td>\n",
       "      <td>1.0</td>\n",
       "      <td>0.00</td>\n",
       "      <td>2</td>\n",
       "      <td>0</td>\n",
       "      <td>0</td>\n",
       "      <td>93826.63</td>\n",
       "      <td>0</td>\n",
       "    </tr>\n",
       "    <tr>\n",
       "      <td>4</td>\n",
       "      <td>5</td>\n",
       "      <td>15737888</td>\n",
       "      <td>Mitchell</td>\n",
       "      <td>850</td>\n",
       "      <td>Spain</td>\n",
       "      <td>Female</td>\n",
       "      <td>43</td>\n",
       "      <td>2.0</td>\n",
       "      <td>125510.82</td>\n",
       "      <td>1</td>\n",
       "      <td>1</td>\n",
       "      <td>1</td>\n",
       "      <td>79084.10</td>\n",
       "      <td>0</td>\n",
       "    </tr>\n",
       "  </tbody>\n",
       "</table>\n",
       "</div>"
      ],
      "text/plain": [
       "   RowNumber  CustomerId   Surname  CreditScore Geography  Gender  Age  \\\n",
       "0          1    15634602  Hargrave          619    France  Female   42   \n",
       "1          2    15647311      Hill          608     Spain  Female   41   \n",
       "2          3    15619304      Onio          502    France  Female   42   \n",
       "3          4    15701354      Boni          699    France  Female   39   \n",
       "4          5    15737888  Mitchell          850     Spain  Female   43   \n",
       "\n",
       "   Tenure    Balance  NumOfProducts  HasCrCard  IsActiveMember  \\\n",
       "0     2.0       0.00              1          1               1   \n",
       "1     1.0   83807.86              1          0               1   \n",
       "2     8.0  159660.80              3          1               0   \n",
       "3     1.0       0.00              2          0               0   \n",
       "4     2.0  125510.82              1          1               1   \n",
       "\n",
       "   EstimatedSalary  Exited  \n",
       "0        101348.88       1  \n",
       "1        112542.58       0  \n",
       "2        113931.57       1  \n",
       "3         93826.63       0  \n",
       "4         79084.10       0  "
      ]
     },
     "metadata": {},
     "output_type": "display_data"
    },
    {
     "name": "stdout",
     "output_type": "stream",
     "text": [
      "<class 'pandas.core.frame.DataFrame'>\n",
      "RangeIndex: 10000 entries, 0 to 9999\n",
      "Data columns (total 14 columns):\n",
      "RowNumber          10000 non-null int64\n",
      "CustomerId         10000 non-null int64\n",
      "Surname            10000 non-null object\n",
      "CreditScore        10000 non-null int64\n",
      "Geography          10000 non-null object\n",
      "Gender             10000 non-null object\n",
      "Age                10000 non-null int64\n",
      "Tenure             9091 non-null float64\n",
      "Balance            10000 non-null float64\n",
      "NumOfProducts      10000 non-null int64\n",
      "HasCrCard          10000 non-null int64\n",
      "IsActiveMember     10000 non-null int64\n",
      "EstimatedSalary    10000 non-null float64\n",
      "Exited             10000 non-null int64\n",
      "dtypes: float64(3), int64(8), object(3)\n",
      "memory usage: 1.1+ MB\n"
     ]
    },
    {
     "data": {
      "text/plain": [
       "None"
      ]
     },
     "metadata": {},
     "output_type": "display_data"
    },
    {
     "data": {
      "text/plain": [
       "(10000, 14)"
      ]
     },
     "metadata": {},
     "output_type": "display_data"
    },
    {
     "data": {
      "text/html": [
       "<div>\n",
       "<style scoped>\n",
       "    .dataframe tbody tr th:only-of-type {\n",
       "        vertical-align: middle;\n",
       "    }\n",
       "\n",
       "    .dataframe tbody tr th {\n",
       "        vertical-align: top;\n",
       "    }\n",
       "\n",
       "    .dataframe thead th {\n",
       "        text-align: right;\n",
       "    }\n",
       "</style>\n",
       "<table border=\"1\" class=\"dataframe\">\n",
       "  <thead>\n",
       "    <tr style=\"text-align: right;\">\n",
       "      <th></th>\n",
       "      <th>RowNumber</th>\n",
       "      <th>CustomerId</th>\n",
       "      <th>CreditScore</th>\n",
       "      <th>Age</th>\n",
       "      <th>Tenure</th>\n",
       "      <th>Balance</th>\n",
       "      <th>NumOfProducts</th>\n",
       "      <th>HasCrCard</th>\n",
       "      <th>IsActiveMember</th>\n",
       "      <th>EstimatedSalary</th>\n",
       "      <th>Exited</th>\n",
       "    </tr>\n",
       "  </thead>\n",
       "  <tbody>\n",
       "    <tr>\n",
       "      <td>count</td>\n",
       "      <td>10000.00000</td>\n",
       "      <td>1.000000e+04</td>\n",
       "      <td>10000.000000</td>\n",
       "      <td>10000.000000</td>\n",
       "      <td>9091.000000</td>\n",
       "      <td>10000.000000</td>\n",
       "      <td>10000.000000</td>\n",
       "      <td>10000.00000</td>\n",
       "      <td>10000.000000</td>\n",
       "      <td>10000.000000</td>\n",
       "      <td>10000.000000</td>\n",
       "    </tr>\n",
       "    <tr>\n",
       "      <td>mean</td>\n",
       "      <td>5000.50000</td>\n",
       "      <td>1.569094e+07</td>\n",
       "      <td>650.528800</td>\n",
       "      <td>38.921800</td>\n",
       "      <td>4.997690</td>\n",
       "      <td>76485.889288</td>\n",
       "      <td>1.530200</td>\n",
       "      <td>0.70550</td>\n",
       "      <td>0.515100</td>\n",
       "      <td>100090.239881</td>\n",
       "      <td>0.203700</td>\n",
       "    </tr>\n",
       "    <tr>\n",
       "      <td>std</td>\n",
       "      <td>2886.89568</td>\n",
       "      <td>7.193619e+04</td>\n",
       "      <td>96.653299</td>\n",
       "      <td>10.487806</td>\n",
       "      <td>2.894723</td>\n",
       "      <td>62397.405202</td>\n",
       "      <td>0.581654</td>\n",
       "      <td>0.45584</td>\n",
       "      <td>0.499797</td>\n",
       "      <td>57510.492818</td>\n",
       "      <td>0.402769</td>\n",
       "    </tr>\n",
       "    <tr>\n",
       "      <td>min</td>\n",
       "      <td>1.00000</td>\n",
       "      <td>1.556570e+07</td>\n",
       "      <td>350.000000</td>\n",
       "      <td>18.000000</td>\n",
       "      <td>0.000000</td>\n",
       "      <td>0.000000</td>\n",
       "      <td>1.000000</td>\n",
       "      <td>0.00000</td>\n",
       "      <td>0.000000</td>\n",
       "      <td>11.580000</td>\n",
       "      <td>0.000000</td>\n",
       "    </tr>\n",
       "    <tr>\n",
       "      <td>25%</td>\n",
       "      <td>2500.75000</td>\n",
       "      <td>1.562853e+07</td>\n",
       "      <td>584.000000</td>\n",
       "      <td>32.000000</td>\n",
       "      <td>2.000000</td>\n",
       "      <td>0.000000</td>\n",
       "      <td>1.000000</td>\n",
       "      <td>0.00000</td>\n",
       "      <td>0.000000</td>\n",
       "      <td>51002.110000</td>\n",
       "      <td>0.000000</td>\n",
       "    </tr>\n",
       "    <tr>\n",
       "      <td>50%</td>\n",
       "      <td>5000.50000</td>\n",
       "      <td>1.569074e+07</td>\n",
       "      <td>652.000000</td>\n",
       "      <td>37.000000</td>\n",
       "      <td>5.000000</td>\n",
       "      <td>97198.540000</td>\n",
       "      <td>1.000000</td>\n",
       "      <td>1.00000</td>\n",
       "      <td>1.000000</td>\n",
       "      <td>100193.915000</td>\n",
       "      <td>0.000000</td>\n",
       "    </tr>\n",
       "    <tr>\n",
       "      <td>75%</td>\n",
       "      <td>7500.25000</td>\n",
       "      <td>1.575323e+07</td>\n",
       "      <td>718.000000</td>\n",
       "      <td>44.000000</td>\n",
       "      <td>7.000000</td>\n",
       "      <td>127644.240000</td>\n",
       "      <td>2.000000</td>\n",
       "      <td>1.00000</td>\n",
       "      <td>1.000000</td>\n",
       "      <td>149388.247500</td>\n",
       "      <td>0.000000</td>\n",
       "    </tr>\n",
       "    <tr>\n",
       "      <td>max</td>\n",
       "      <td>10000.00000</td>\n",
       "      <td>1.581569e+07</td>\n",
       "      <td>850.000000</td>\n",
       "      <td>92.000000</td>\n",
       "      <td>10.000000</td>\n",
       "      <td>250898.090000</td>\n",
       "      <td>4.000000</td>\n",
       "      <td>1.00000</td>\n",
       "      <td>1.000000</td>\n",
       "      <td>199992.480000</td>\n",
       "      <td>1.000000</td>\n",
       "    </tr>\n",
       "  </tbody>\n",
       "</table>\n",
       "</div>"
      ],
      "text/plain": [
       "         RowNumber    CustomerId   CreditScore           Age       Tenure  \\\n",
       "count  10000.00000  1.000000e+04  10000.000000  10000.000000  9091.000000   \n",
       "mean    5000.50000  1.569094e+07    650.528800     38.921800     4.997690   \n",
       "std     2886.89568  7.193619e+04     96.653299     10.487806     2.894723   \n",
       "min        1.00000  1.556570e+07    350.000000     18.000000     0.000000   \n",
       "25%     2500.75000  1.562853e+07    584.000000     32.000000     2.000000   \n",
       "50%     5000.50000  1.569074e+07    652.000000     37.000000     5.000000   \n",
       "75%     7500.25000  1.575323e+07    718.000000     44.000000     7.000000   \n",
       "max    10000.00000  1.581569e+07    850.000000     92.000000    10.000000   \n",
       "\n",
       "             Balance  NumOfProducts    HasCrCard  IsActiveMember  \\\n",
       "count   10000.000000   10000.000000  10000.00000    10000.000000   \n",
       "mean    76485.889288       1.530200      0.70550        0.515100   \n",
       "std     62397.405202       0.581654      0.45584        0.499797   \n",
       "min         0.000000       1.000000      0.00000        0.000000   \n",
       "25%         0.000000       1.000000      0.00000        0.000000   \n",
       "50%     97198.540000       1.000000      1.00000        1.000000   \n",
       "75%    127644.240000       2.000000      1.00000        1.000000   \n",
       "max    250898.090000       4.000000      1.00000        1.000000   \n",
       "\n",
       "       EstimatedSalary        Exited  \n",
       "count     10000.000000  10000.000000  \n",
       "mean     100090.239881      0.203700  \n",
       "std       57510.492818      0.402769  \n",
       "min          11.580000      0.000000  \n",
       "25%       51002.110000      0.000000  \n",
       "50%      100193.915000      0.000000  \n",
       "75%      149388.247500      0.000000  \n",
       "max      199992.480000      1.000000  "
      ]
     },
     "metadata": {},
     "output_type": "display_data"
    }
   ],
   "source": [
    "data = pd.read_csv('/datasets/Churn.csv')\n",
    "display(data.head())\n",
    "display(data.info())\n",
    "display(data.shape)\n",
    "display(data.describe())"
   ]
  },
  {
   "cell_type": "markdown",
   "metadata": {},
   "source": [
    "Приведем названия столбцов к нижнему регистру"
   ]
  },
  {
   "cell_type": "code",
   "execution_count": 3,
   "metadata": {},
   "outputs": [],
   "source": [
    "data.columns = [x.lower() for x in data.columns]"
   ]
  },
  {
   "cell_type": "markdown",
   "metadata": {},
   "source": [
    "Приведем столбец столбец tenure к целому значению. Все-таки недвижимость это число целое, хотя есть исключения. \n",
    "\n",
    "Заполним пропуски нулями, так не будет проблем с обучением."
   ]
  },
  {
   "cell_type": "markdown",
   "metadata": {},
   "source": [
    "<div class=\"alert alert-success\">\n",
    "    \n",
    "**Комментарий ревьюера**\n",
    "    \n",
    "А можно пример не целой недвижимости?)Когда он с кем-то условно 50/50?)\n",
    "    \n",
    "Кроме заполнения 0, какие еще варианты рассматривал?\n",
    "</div>"
   ]
  },
  {
   "cell_type": "markdown",
   "metadata": {},
   "source": [
    "<div class=\"alert alert-block alert-info\">\n",
    "Конечно можно: люди покупают комнаты в квартирах или ,например, в наследсво может быть вписано несколько наследников, каждому -  по доле. Квартира, купленная в браке ,при разводе неожиданно делиться на 2 части)) \n",
    "\n",
    "Можно заполнить медианой, но мне тут один ревьюер сообщил, что данные лучше постараться по возможности не менять) Ко всему прочему, если стоит пропуск, то велика вероятность, что и недвижимости нет. Что посоветуешь?\n",
    "</div>"
   ]
  },
  {
   "cell_type": "markdown",
   "metadata": {},
   "source": [
    "<div class=\"alert alert-success\">\n",
    "    \n",
    "**Комментарий ревьюера v_3**\n",
    "    \n",
    "Так как сейчас идет обучение, я бы советовал делать по возможности все варианты и выбирать тот, который даёт наилучший результат)Если не ошибаюсь, как раз в этой работе результат будет лучше, если просто удалить признак **tenure**)\n",
    "</div>"
   ]
  },
  {
   "cell_type": "code",
   "execution_count": 4,
   "metadata": {},
   "outputs": [],
   "source": [
    "data['tenure'] = data['tenure'].astype(pd.Int64Dtype())\n",
    "data['tenure'].fillna(0, inplace=True)"
   ]
  },
  {
   "cell_type": "code",
   "execution_count": 5,
   "metadata": {
    "scrolled": true
   },
   "outputs": [
    {
     "name": "stdout",
     "output_type": "stream",
     "text": [
      "<class 'pandas.core.frame.DataFrame'>\n",
      "RangeIndex: 10000 entries, 0 to 9999\n",
      "Data columns (total 14 columns):\n",
      "rownumber          10000 non-null int64\n",
      "customerid         10000 non-null int64\n",
      "surname            10000 non-null object\n",
      "creditscore        10000 non-null int64\n",
      "geography          10000 non-null object\n",
      "gender             10000 non-null object\n",
      "age                10000 non-null int64\n",
      "tenure             10000 non-null Int64\n",
      "balance            10000 non-null float64\n",
      "numofproducts      10000 non-null int64\n",
      "hascrcard          10000 non-null int64\n",
      "isactivemember     10000 non-null int64\n",
      "estimatedsalary    10000 non-null float64\n",
      "exited             10000 non-null int64\n",
      "dtypes: Int64(1), float64(2), int64(8), object(3)\n",
      "memory usage: 1.1+ MB\n"
     ]
    }
   ],
   "source": [
    "data.info()"
   ]
  },
  {
   "cell_type": "markdown",
   "metadata": {},
   "source": [
    "Посмотрим на корреляцию между признаками. Если будет плотная взаимосвязь, какой-нибудь столбец можно будет удалить и обучение пойдет легче."
   ]
  },
  {
   "cell_type": "markdown",
   "metadata": {},
   "source": [
    "<div class=\"alert alert-success\">\n",
    "    \n",
    "**Комментарий ревьюера**\n",
    "    \n",
    "А какой коэффициент корреляции должен быть, чтобы мы так сделали?)\n",
    "</div>"
   ]
  },
  {
   "cell_type": "markdown",
   "metadata": {},
   "source": [
    "<div class=\"alert alert-block alert-info\">"
   ]
  },
  {
   "attachments": {
    "image.png": {
     "image/png": "[encoded data removed]"
    }
   },
   "cell_type": "markdown",
   "metadata": {},
   "source": [
    "  \n",
    "Да почти единица) Вот скрин из прошлого проекта, там количество звонков тесно кореллировало с минутами звонков, ну вот я и удалил количество.\n",
    "![image.png](attachment:image.png)\n"
   ]
  },
  {
   "cell_type": "markdown",
   "metadata": {},
   "source": [
    "<div class=\"alert alert-success\">\n",
    "    \n",
    "**Комментарий ревьюера v_2**\n",
    "    \n",
    "Окей)\n",
    "</div>"
   ]
  },
  {
   "cell_type": "code",
   "execution_count": 6,
   "metadata": {},
   "outputs": [
    {
     "data": {
      "text/html": [
       "<div>\n",
       "<style scoped>\n",
       "    .dataframe tbody tr th:only-of-type {\n",
       "        vertical-align: middle;\n",
       "    }\n",
       "\n",
       "    .dataframe tbody tr th {\n",
       "        vertical-align: top;\n",
       "    }\n",
       "\n",
       "    .dataframe thead th {\n",
       "        text-align: right;\n",
       "    }\n",
       "</style>\n",
       "<table border=\"1\" class=\"dataframe\">\n",
       "  <thead>\n",
       "    <tr style=\"text-align: right;\">\n",
       "      <th></th>\n",
       "      <th>rownumber</th>\n",
       "      <th>customerid</th>\n",
       "      <th>creditscore</th>\n",
       "      <th>age</th>\n",
       "      <th>tenure</th>\n",
       "      <th>balance</th>\n",
       "      <th>numofproducts</th>\n",
       "      <th>hascrcard</th>\n",
       "      <th>isactivemember</th>\n",
       "      <th>estimatedsalary</th>\n",
       "      <th>exited</th>\n",
       "    </tr>\n",
       "  </thead>\n",
       "  <tbody>\n",
       "    <tr>\n",
       "      <td>rownumber</td>\n",
       "      <td>1.000000</td>\n",
       "      <td>0.004202</td>\n",
       "      <td>0.005840</td>\n",
       "      <td>0.000783</td>\n",
       "      <td>0.000596</td>\n",
       "      <td>-0.009067</td>\n",
       "      <td>0.007246</td>\n",
       "      <td>0.000599</td>\n",
       "      <td>0.012044</td>\n",
       "      <td>-0.005988</td>\n",
       "      <td>-0.016571</td>\n",
       "    </tr>\n",
       "    <tr>\n",
       "      <td>customerid</td>\n",
       "      <td>0.004202</td>\n",
       "      <td>1.000000</td>\n",
       "      <td>0.005308</td>\n",
       "      <td>0.009497</td>\n",
       "      <td>-0.015747</td>\n",
       "      <td>-0.012419</td>\n",
       "      <td>0.016972</td>\n",
       "      <td>-0.014025</td>\n",
       "      <td>0.001665</td>\n",
       "      <td>0.015271</td>\n",
       "      <td>-0.006248</td>\n",
       "    </tr>\n",
       "    <tr>\n",
       "      <td>creditscore</td>\n",
       "      <td>0.005840</td>\n",
       "      <td>0.005308</td>\n",
       "      <td>1.000000</td>\n",
       "      <td>-0.003965</td>\n",
       "      <td>0.003087</td>\n",
       "      <td>0.006268</td>\n",
       "      <td>0.012238</td>\n",
       "      <td>-0.005458</td>\n",
       "      <td>0.025651</td>\n",
       "      <td>-0.001384</td>\n",
       "      <td>-0.027094</td>\n",
       "    </tr>\n",
       "    <tr>\n",
       "      <td>age</td>\n",
       "      <td>0.000783</td>\n",
       "      <td>0.009497</td>\n",
       "      <td>-0.003965</td>\n",
       "      <td>1.000000</td>\n",
       "      <td>-0.007368</td>\n",
       "      <td>0.028308</td>\n",
       "      <td>-0.030680</td>\n",
       "      <td>-0.011721</td>\n",
       "      <td>0.085472</td>\n",
       "      <td>-0.007201</td>\n",
       "      <td>0.285323</td>\n",
       "    </tr>\n",
       "    <tr>\n",
       "      <td>tenure</td>\n",
       "      <td>0.000596</td>\n",
       "      <td>-0.015747</td>\n",
       "      <td>0.003087</td>\n",
       "      <td>-0.007368</td>\n",
       "      <td>1.000000</td>\n",
       "      <td>-0.005821</td>\n",
       "      <td>0.010106</td>\n",
       "      <td>0.021387</td>\n",
       "      <td>-0.025856</td>\n",
       "      <td>0.011225</td>\n",
       "      <td>-0.013319</td>\n",
       "    </tr>\n",
       "    <tr>\n",
       "      <td>balance</td>\n",
       "      <td>-0.009067</td>\n",
       "      <td>-0.012419</td>\n",
       "      <td>0.006268</td>\n",
       "      <td>0.028308</td>\n",
       "      <td>-0.005821</td>\n",
       "      <td>1.000000</td>\n",
       "      <td>-0.304180</td>\n",
       "      <td>-0.014858</td>\n",
       "      <td>-0.010084</td>\n",
       "      <td>0.012797</td>\n",
       "      <td>0.118533</td>\n",
       "    </tr>\n",
       "    <tr>\n",
       "      <td>numofproducts</td>\n",
       "      <td>0.007246</td>\n",
       "      <td>0.016972</td>\n",
       "      <td>0.012238</td>\n",
       "      <td>-0.030680</td>\n",
       "      <td>0.010106</td>\n",
       "      <td>-0.304180</td>\n",
       "      <td>1.000000</td>\n",
       "      <td>0.003183</td>\n",
       "      <td>0.009612</td>\n",
       "      <td>0.014204</td>\n",
       "      <td>-0.047820</td>\n",
       "    </tr>\n",
       "    <tr>\n",
       "      <td>hascrcard</td>\n",
       "      <td>0.000599</td>\n",
       "      <td>-0.014025</td>\n",
       "      <td>-0.005458</td>\n",
       "      <td>-0.011721</td>\n",
       "      <td>0.021387</td>\n",
       "      <td>-0.014858</td>\n",
       "      <td>0.003183</td>\n",
       "      <td>1.000000</td>\n",
       "      <td>-0.011866</td>\n",
       "      <td>-0.009933</td>\n",
       "      <td>-0.007138</td>\n",
       "    </tr>\n",
       "    <tr>\n",
       "      <td>isactivemember</td>\n",
       "      <td>0.012044</td>\n",
       "      <td>0.001665</td>\n",
       "      <td>0.025651</td>\n",
       "      <td>0.085472</td>\n",
       "      <td>-0.025856</td>\n",
       "      <td>-0.010084</td>\n",
       "      <td>0.009612</td>\n",
       "      <td>-0.011866</td>\n",
       "      <td>1.000000</td>\n",
       "      <td>-0.011421</td>\n",
       "      <td>-0.156128</td>\n",
       "    </tr>\n",
       "    <tr>\n",
       "      <td>estimatedsalary</td>\n",
       "      <td>-0.005988</td>\n",
       "      <td>0.015271</td>\n",
       "      <td>-0.001384</td>\n",
       "      <td>-0.007201</td>\n",
       "      <td>0.011225</td>\n",
       "      <td>0.012797</td>\n",
       "      <td>0.014204</td>\n",
       "      <td>-0.009933</td>\n",
       "      <td>-0.011421</td>\n",
       "      <td>1.000000</td>\n",
       "      <td>0.012097</td>\n",
       "    </tr>\n",
       "    <tr>\n",
       "      <td>exited</td>\n",
       "      <td>-0.016571</td>\n",
       "      <td>-0.006248</td>\n",
       "      <td>-0.027094</td>\n",
       "      <td>0.285323</td>\n",
       "      <td>-0.013319</td>\n",
       "      <td>0.118533</td>\n",
       "      <td>-0.047820</td>\n",
       "      <td>-0.007138</td>\n",
       "      <td>-0.156128</td>\n",
       "      <td>0.012097</td>\n",
       "      <td>1.000000</td>\n",
       "    </tr>\n",
       "  </tbody>\n",
       "</table>\n",
       "</div>"
      ],
      "text/plain": [
       "                 rownumber  customerid  creditscore       age    tenure  \\\n",
       "rownumber         1.000000    0.004202     0.005840  0.000783  0.000596   \n",
       "customerid        0.004202    1.000000     0.005308  0.009497 -0.015747   \n",
       "creditscore       0.005840    0.005308     1.000000 -0.003965  0.003087   \n",
       "age               0.000783    0.009497    -0.003965  1.000000 -0.007368   \n",
       "tenure            0.000596   -0.015747     0.003087 -0.007368  1.000000   \n",
       "balance          -0.009067   -0.012419     0.006268  0.028308 -0.005821   \n",
       "numofproducts     0.007246    0.016972     0.012238 -0.030680  0.010106   \n",
       "hascrcard         0.000599   -0.014025    -0.005458 -0.011721  0.021387   \n",
       "isactivemember    0.012044    0.001665     0.025651  0.085472 -0.025856   \n",
       "estimatedsalary  -0.005988    0.015271    -0.001384 -0.007201  0.011225   \n",
       "exited           -0.016571   -0.006248    -0.027094  0.285323 -0.013319   \n",
       "\n",
       "                  balance  numofproducts  hascrcard  isactivemember  \\\n",
       "rownumber       -0.009067       0.007246   0.000599        0.012044   \n",
       "customerid      -0.012419       0.016972  -0.014025        0.001665   \n",
       "creditscore      0.006268       0.012238  -0.005458        0.025651   \n",
       "age              0.028308      -0.030680  -0.011721        0.085472   \n",
       "tenure          -0.005821       0.010106   0.021387       -0.025856   \n",
       "balance          1.000000      -0.304180  -0.014858       -0.010084   \n",
       "numofproducts   -0.304180       1.000000   0.003183        0.009612   \n",
       "hascrcard       -0.014858       0.003183   1.000000       -0.011866   \n",
       "isactivemember  -0.010084       0.009612  -0.011866        1.000000   \n",
       "estimatedsalary  0.012797       0.014204  -0.009933       -0.011421   \n",
       "exited           0.118533      -0.047820  -0.007138       -0.156128   \n",
       "\n",
       "                 estimatedsalary    exited  \n",
       "rownumber              -0.005988 -0.016571  \n",
       "customerid              0.015271 -0.006248  \n",
       "creditscore            -0.001384 -0.027094  \n",
       "age                    -0.007201  0.285323  \n",
       "tenure                  0.011225 -0.013319  \n",
       "balance                 0.012797  0.118533  \n",
       "numofproducts           0.014204 -0.047820  \n",
       "hascrcard              -0.009933 -0.007138  \n",
       "isactivemember         -0.011421 -0.156128  \n",
       "estimatedsalary         1.000000  0.012097  \n",
       "exited                  0.012097  1.000000  "
      ]
     },
     "execution_count": 6,
     "metadata": {},
     "output_type": "execute_result"
    }
   ],
   "source": [
    "data.corr()"
   ]
  },
  {
   "cell_type": "code",
   "execution_count": 7,
   "metadata": {
    "scrolled": false
   },
   "outputs": [
    {
     "data": {
      "text/plain": [
       "Text(0.5, 1.05, '')"
      ]
     },
     "execution_count": 7,
     "metadata": {},
     "output_type": "execute_result"
    },
    {
     "data": {
      "image/png": "[encoded data removed]",
      "text/plain": [
       "<Figure size 720x576 with 2 Axes>"
      ]
     },
     "metadata": {
      "needs_background": "light"
     },
     "output_type": "display_data"
    }
   ],
   "source": [
    "f = plt.figure(figsize=(10, 8))\n",
    "plt.matshow(data.corr(), fignum=f.number)\n",
    "plt.xticks(range(data.select_dtypes(['number']).shape[1]), data.select_dtypes(['number']).columns, fontsize=14, rotation=45)\n",
    "plt.yticks(range(data.select_dtypes(['number']).shape[1]), data.select_dtypes(['number']).columns, fontsize=14)\n",
    "cb = plt.colorbar()\n",
    "cb.ax.tick_params()\n",
    "plt.title('', fontsize=16)"
   ]
  },
  {
   "cell_type": "markdown",
   "metadata": {},
   "source": [
    "Явной корреляции между признаками не замечено. Данные не трогаем"
   ]
  },
  {
   "cell_type": "code",
   "execution_count": 8,
   "metadata": {
    "scrolled": true
   },
   "outputs": [
    {
     "data": {
      "text/html": [
       "<div>\n",
       "<style scoped>\n",
       "    .dataframe tbody tr th:only-of-type {\n",
       "        vertical-align: middle;\n",
       "    }\n",
       "\n",
       "    .dataframe tbody tr th {\n",
       "        vertical-align: top;\n",
       "    }\n",
       "\n",
       "    .dataframe thead th {\n",
       "        text-align: right;\n",
       "    }\n",
       "</style>\n",
       "<table border=\"1\" class=\"dataframe\">\n",
       "  <thead>\n",
       "    <tr style=\"text-align: right;\">\n",
       "      <th></th>\n",
       "      <th>rownumber</th>\n",
       "      <th>customerid</th>\n",
       "      <th>surname</th>\n",
       "      <th>creditscore</th>\n",
       "      <th>geography</th>\n",
       "      <th>gender</th>\n",
       "      <th>age</th>\n",
       "      <th>tenure</th>\n",
       "      <th>balance</th>\n",
       "      <th>numofproducts</th>\n",
       "      <th>hascrcard</th>\n",
       "      <th>isactivemember</th>\n",
       "      <th>estimatedsalary</th>\n",
       "      <th>exited</th>\n",
       "    </tr>\n",
       "  </thead>\n",
       "  <tbody>\n",
       "    <tr>\n",
       "      <td>0</td>\n",
       "      <td>1</td>\n",
       "      <td>15634602</td>\n",
       "      <td>Hargrave</td>\n",
       "      <td>619</td>\n",
       "      <td>France</td>\n",
       "      <td>Female</td>\n",
       "      <td>42</td>\n",
       "      <td>2</td>\n",
       "      <td>0.0</td>\n",
       "      <td>1</td>\n",
       "      <td>1</td>\n",
       "      <td>1</td>\n",
       "      <td>101348.88</td>\n",
       "      <td>1</td>\n",
       "    </tr>\n",
       "  </tbody>\n",
       "</table>\n",
       "</div>"
      ],
      "text/plain": [
       "   rownumber  customerid   surname  creditscore geography  gender  age  \\\n",
       "0          1    15634602  Hargrave          619    France  Female   42   \n",
       "\n",
       "   tenure  balance  numofproducts  hascrcard  isactivemember  estimatedsalary  \\\n",
       "0       2      0.0              1          1               1        101348.88   \n",
       "\n",
       "   exited  \n",
       "0       1  "
      ]
     },
     "execution_count": 8,
     "metadata": {},
     "output_type": "execute_result"
    }
   ],
   "source": [
    "data.head(1)"
   ]
  },
  {
   "cell_type": "markdown",
   "metadata": {},
   "source": [
    "Преобразуем категориальные признаки в численные, за одно приведем к одному масштабу.\n",
    "\n",
    "Тут у меня есть вопрос: столбцы 'hascrcard', 'isactivemember' нужно приводить к одному масштабу ? "
   ]
  },
  {
   "cell_type": "markdown",
   "metadata": {},
   "source": [
    "<div class=\"alert alert-danger\">\n",
    "    \n",
    "**Комментарий ревьюера**\n",
    "    \n",
    "Ты не исключил неинформативные признаки)Подумай какие)Не показалось, что 2900 столбцов это много?) Прошу исправить)\n",
    "    \n",
    "Что касается твоего вопроса, не очень его понял)Если тебя смущает, что там только 0 и 1, и вопрос в этом)То я думаю можно не делать)По сути, после стандартизации у тебя получится снова только 2 значения, которые не очень далеко друг от друга)\n",
    "    \n",
    "Еще раз повторю, мне кажется размыто написал)Делать стандартизацию ты можешь на любых столбцах, но там где значения по факту boolean, этого можно не делать\n",
    "</div>"
   ]
  },
  {
   "cell_type": "markdown",
   "metadata": {},
   "source": [
    "<div class=\"alert alert-block alert-info\">\n",
    "Ок. Индекс строки данных, уникальный идентификатор клиента и фамилия, думаю для обучения точно не нужны) Я оставил страну проживания, возможно это связано с уровнем жизни. Пол тоже оставил. Вдруг женщины импульсивны и чаще уходят от одного банка к другому банку) Но сперва с первым банком долго не разговаривают и не берут трубки)"
   ]
  },
  {
   "cell_type": "markdown",
   "metadata": {},
   "source": [
    "<div class=\"alert alert-success\">\n",
    "    \n",
    "**Комментарий ревьюера v_2**\n",
    "    \n",
    "Хах, про женщин интересное предположение)Да, в остальном прав)\n",
    "</div>"
   ]
  },
  {
   "cell_type": "code",
   "execution_count": 9,
   "metadata": {},
   "outputs": [
    {
     "data": {
      "text/html": [
       "<div>\n",
       "<style scoped>\n",
       "    .dataframe tbody tr th:only-of-type {\n",
       "        vertical-align: middle;\n",
       "    }\n",
       "\n",
       "    .dataframe tbody tr th {\n",
       "        vertical-align: top;\n",
       "    }\n",
       "\n",
       "    .dataframe thead th {\n",
       "        text-align: right;\n",
       "    }\n",
       "</style>\n",
       "<table border=\"1\" class=\"dataframe\">\n",
       "  <thead>\n",
       "    <tr style=\"text-align: right;\">\n",
       "      <th></th>\n",
       "      <th>creditscore</th>\n",
       "      <th>geography</th>\n",
       "      <th>gender</th>\n",
       "      <th>age</th>\n",
       "      <th>tenure</th>\n",
       "      <th>balance</th>\n",
       "      <th>numofproducts</th>\n",
       "      <th>hascrcard</th>\n",
       "      <th>isactivemember</th>\n",
       "      <th>estimatedsalary</th>\n",
       "      <th>exited</th>\n",
       "    </tr>\n",
       "  </thead>\n",
       "  <tbody>\n",
       "    <tr>\n",
       "      <td>0</td>\n",
       "      <td>619</td>\n",
       "      <td>France</td>\n",
       "      <td>Female</td>\n",
       "      <td>42</td>\n",
       "      <td>2</td>\n",
       "      <td>0.00</td>\n",
       "      <td>1</td>\n",
       "      <td>1</td>\n",
       "      <td>1</td>\n",
       "      <td>101348.88</td>\n",
       "      <td>1</td>\n",
       "    </tr>\n",
       "    <tr>\n",
       "      <td>1</td>\n",
       "      <td>608</td>\n",
       "      <td>Spain</td>\n",
       "      <td>Female</td>\n",
       "      <td>41</td>\n",
       "      <td>1</td>\n",
       "      <td>83807.86</td>\n",
       "      <td>1</td>\n",
       "      <td>0</td>\n",
       "      <td>1</td>\n",
       "      <td>112542.58</td>\n",
       "      <td>0</td>\n",
       "    </tr>\n",
       "    <tr>\n",
       "      <td>2</td>\n",
       "      <td>502</td>\n",
       "      <td>France</td>\n",
       "      <td>Female</td>\n",
       "      <td>42</td>\n",
       "      <td>8</td>\n",
       "      <td>159660.80</td>\n",
       "      <td>3</td>\n",
       "      <td>1</td>\n",
       "      <td>0</td>\n",
       "      <td>113931.57</td>\n",
       "      <td>1</td>\n",
       "    </tr>\n",
       "    <tr>\n",
       "      <td>3</td>\n",
       "      <td>699</td>\n",
       "      <td>France</td>\n",
       "      <td>Female</td>\n",
       "      <td>39</td>\n",
       "      <td>1</td>\n",
       "      <td>0.00</td>\n",
       "      <td>2</td>\n",
       "      <td>0</td>\n",
       "      <td>0</td>\n",
       "      <td>93826.63</td>\n",
       "      <td>0</td>\n",
       "    </tr>\n",
       "    <tr>\n",
       "      <td>4</td>\n",
       "      <td>850</td>\n",
       "      <td>Spain</td>\n",
       "      <td>Female</td>\n",
       "      <td>43</td>\n",
       "      <td>2</td>\n",
       "      <td>125510.82</td>\n",
       "      <td>1</td>\n",
       "      <td>1</td>\n",
       "      <td>1</td>\n",
       "      <td>79084.10</td>\n",
       "      <td>0</td>\n",
       "    </tr>\n",
       "  </tbody>\n",
       "</table>\n",
       "</div>"
      ],
      "text/plain": [
       "   creditscore geography  gender  age  tenure    balance  numofproducts  \\\n",
       "0          619    France  Female   42       2       0.00              1   \n",
       "1          608     Spain  Female   41       1   83807.86              1   \n",
       "2          502    France  Female   42       8  159660.80              3   \n",
       "3          699    France  Female   39       1       0.00              2   \n",
       "4          850     Spain  Female   43       2  125510.82              1   \n",
       "\n",
       "   hascrcard  isactivemember  estimatedsalary  exited  \n",
       "0          1               1        101348.88       1  \n",
       "1          0               1        112542.58       0  \n",
       "2          1               0        113931.57       1  \n",
       "3          0               0         93826.63       0  \n",
       "4          1               1         79084.10       0  "
      ]
     },
     "execution_count": 9,
     "metadata": {},
     "output_type": "execute_result"
    }
   ],
   "source": [
    "data = data.drop(['rownumber', 'customerid', 'surname'], axis=1)\n",
    "data.head()"
   ]
  },
  {
   "cell_type": "code",
   "execution_count": 10,
   "metadata": {},
   "outputs": [
    {
     "data": {
      "text/plain": [
       "(7500, 11)"
      ]
     },
     "metadata": {},
     "output_type": "display_data"
    },
    {
     "data": {
      "text/plain": [
       "(2500, 11)"
      ]
     },
     "metadata": {},
     "output_type": "display_data"
    }
   ],
   "source": [
    "data_ohe = pd.get_dummies(data, drop_first=True)\n",
    "\n",
    "target = data_ohe['exited']\n",
    "features = data_ohe.drop('exited', axis=1)\n",
    "\n",
    "features_train, features_valid, target_train, target_valid = train_test_split(features, target, test_size=0.25, random_state=12345) \n",
    "\n",
    "numeric = ['creditscore', 'age', 'tenure', 'balance', 'numofproducts', 'estimatedsalary', 'hascrcard', 'isactivemember']\n",
    "scaler = StandardScaler()\n",
    "scaler.fit(features_train[numeric]) \n",
    "features_train[numeric] = scaler.transform(features_train[numeric])\n",
    "features_valid[numeric] = scaler.transform(features_valid[numeric])\n",
    "\n",
    "display(features_train.shape)\n",
    "display(features_valid.shape) "
   ]
  },
  {
   "cell_type": "code",
   "execution_count": 11,
   "metadata": {},
   "outputs": [
    {
     "data": {
      "text/plain": [
       "1    7055\n",
       "0    2945\n",
       "Name: hascrcard, dtype: int64"
      ]
     },
     "execution_count": 11,
     "metadata": {},
     "output_type": "execute_result"
    }
   ],
   "source": [
    "data['hascrcard'].value_counts()"
   ]
  },
  {
   "cell_type": "markdown",
   "metadata": {},
   "source": [
    "# 2. Исследование задачи"
   ]
  },
  {
   "cell_type": "markdown",
   "metadata": {},
   "source": [
    "Будем работать с тремя моделями: DecisionTreeClassifier, LogisticRegression, RandomForestClassifier"
   ]
  },
  {
   "cell_type": "markdown",
   "metadata": {},
   "source": [
    "Будем рассматривать каждую модель, замеряя accuracy, F1-меру (чтобы понять с чего стартуем), матрицу ошибок, а дальше на графике посмотрим частотность классов."
   ]
  },
  {
   "cell_type": "code",
   "execution_count": 12,
   "metadata": {
    "scrolled": true
   },
   "outputs": [
    {
     "name": "stdout",
     "output_type": "stream",
     "text": [
      "Показатель accuracy:  0.776\n",
      "Показатель F1-меры:  0.49458483754512633\n"
     ]
    }
   ],
   "source": [
    "model = DecisionTreeClassifier(random_state=12345)\n",
    "model.fit(features_train, target_train)\n",
    "predicted_valid = model.predict(features_valid)\n",
    "accuracy_valid = accuracy_score(target_valid, predicted_valid)\n",
    "print('Показатель accuracy: ', accuracy_valid)\n",
    "print('Показатель F1-меры: ',f1_score(target_valid, predicted_valid))"
   ]
  },
  {
   "cell_type": "code",
   "execution_count": 13,
   "metadata": {
    "scrolled": true
   },
   "outputs": [
    {
     "data": {
      "text/plain": [
       "array([[1666,  299],\n",
       "       [ 261,  274]])"
      ]
     },
     "execution_count": 13,
     "metadata": {},
     "output_type": "execute_result"
    }
   ],
   "source": [
    "confusion_matrix(target_valid, predicted_valid)"
   ]
  },
  {
   "cell_type": "markdown",
   "metadata": {},
   "source": [
    "Модель DecisionTreeClassifier часто видит ложноположительные значения - 185 и ложноотрицательные значения - 270. Так же модель определила истинноположительных значений 265 и истинноотрицательных 1780."
   ]
  },
  {
   "cell_type": "code",
   "execution_count": 14,
   "metadata": {
    "scrolled": true
   },
   "outputs": [
    {
     "name": "stdout",
     "output_type": "stream",
     "text": [
      "0    0.7708\n",
      "1    0.2292\n",
      "dtype: float64\n"
     ]
    },
    {
     "data": {
      "text/plain": [
       "<matplotlib.axes._subplots.AxesSubplot at 0x7f551f236250>"
      ]
     },
     "execution_count": 14,
     "metadata": {},
     "output_type": "execute_result"
    },
    {
     "data": {
      "image/png": "[encoded data removed]",
      "text/plain": [
       "<Figure size 432x288 with 1 Axes>"
      ]
     },
     "metadata": {
      "needs_background": "light"
     },
     "output_type": "display_data"
    }
   ],
   "source": [
    "predicted_valid = pd.Series(model.predict(features_valid))\n",
    "class_frequency = predicted_valid.value_counts(normalize=True)\n",
    "print(class_frequency)\n",
    "class_frequency.plot(kind='bar')"
   ]
  },
  {
   "cell_type": "markdown",
   "metadata": {},
   "source": [
    "Изучим LogisticRegression как он есть на несбалансированных классах"
   ]
  },
  {
   "cell_type": "code",
   "execution_count": 15,
   "metadata": {},
   "outputs": [
    {
     "name": "stdout",
     "output_type": "stream",
     "text": [
      "Показатель accuracy:  0.7972\n",
      "Показатель F1-меры:  0.2928870292887029\n"
     ]
    }
   ],
   "source": [
    "model2 = LogisticRegression(random_state=12345)\n",
    "model2.fit(features_train, target_train)\n",
    "predicted_valid2 = model2.predict(features_valid)\n",
    "accuracy_valid2 = accuracy_score(target_valid, predicted_valid2)\n",
    "print('Показатель accuracy: ', accuracy_valid2)\n",
    "print('Показатель F1-меры: ' , f1_score(target_valid, predicted_valid2))"
   ]
  },
  {
   "cell_type": "code",
   "execution_count": 16,
   "metadata": {
    "scrolled": true
   },
   "outputs": [
    {
     "data": {
      "text/plain": [
       "array([[1888,   77],\n",
       "       [ 430,  105]])"
      ]
     },
     "execution_count": 16,
     "metadata": {},
     "output_type": "execute_result"
    }
   ],
   "source": [
    "confusion_matrix(target_valid, predicted_valid2)"
   ]
  },
  {
   "cell_type": "markdown",
   "metadata": {},
   "source": [
    "Модель DecisionTreeClassifier увидела ложноположительные значения - 100 , много ложноотрицательных значений - 435. Так же модель определила истинноположительных значений 100 и истинноотрицательных 1889."
   ]
  },
  {
   "cell_type": "code",
   "execution_count": 17,
   "metadata": {
    "scrolled": true
   },
   "outputs": [
    {
     "name": "stdout",
     "output_type": "stream",
     "text": [
      "0    0.9272\n",
      "1    0.0728\n",
      "dtype: float64\n"
     ]
    },
    {
     "data": {
      "text/plain": [
       "<matplotlib.axes._subplots.AxesSubplot at 0x7f551f199910>"
      ]
     },
     "execution_count": 17,
     "metadata": {},
     "output_type": "execute_result"
    },
    {
     "data": {
      "image/png": "[encoded data removed]",
      "text/plain": [
       "<Figure size 432x288 with 1 Axes>"
      ]
     },
     "metadata": {
      "needs_background": "light"
     },
     "output_type": "display_data"
    }
   ],
   "source": [
    "predicted_valid2 = pd.Series(model2.predict(features_valid))\n",
    "\n",
    "class_frequency2 = predicted_valid2.value_counts(normalize=True)\n",
    "print(class_frequency2)\n",
    "class_frequency2.plot(kind='bar')"
   ]
  },
  {
   "cell_type": "markdown",
   "metadata": {},
   "source": [
    "RandomForestClassifier"
   ]
  },
  {
   "cell_type": "code",
   "execution_count": 18,
   "metadata": {},
   "outputs": [
    {
     "name": "stdout",
     "output_type": "stream",
     "text": [
      "Показатель accuracy:  0.8356\n",
      "Показатель F1-меры:  0.5124555160142349\n"
     ]
    }
   ],
   "source": [
    "model3 = RandomForestClassifier(random_state=12345, n_estimators=6)\n",
    "model3.fit(features_train, target_train)\n",
    "predicted_valid3 = model3.predict(features_valid)\n",
    "accuracy_valid3 = accuracy_score(target_valid, predicted_valid3)\n",
    "print('Показатель accuracy: ', accuracy_valid3)\n",
    "print('Показатель F1-меры: ' , (f1_score(target_valid, predicted_valid3)))"
   ]
  },
  {
   "cell_type": "code",
   "execution_count": 19,
   "metadata": {
    "scrolled": true
   },
   "outputs": [
    {
     "data": {
      "text/plain": [
       "array([[1873,   92],\n",
       "       [ 319,  216]])"
      ]
     },
     "execution_count": 19,
     "metadata": {},
     "output_type": "execute_result"
    }
   ],
   "source": [
    "confusion_matrix(target_valid, predicted_valid3)"
   ]
  },
  {
   "cell_type": "markdown",
   "metadata": {},
   "source": [
    "Модель RandomForestClassifier определила TP - 139, TN - 1924, FP - 41, FN - 396 (большое количество ложноотрицательных значений)"
   ]
  },
  {
   "cell_type": "code",
   "execution_count": 20,
   "metadata": {
    "scrolled": true
   },
   "outputs": [
    {
     "name": "stdout",
     "output_type": "stream",
     "text": [
      "0    0.8768\n",
      "1    0.1232\n",
      "dtype: float64\n"
     ]
    },
    {
     "data": {
      "text/plain": [
       "<matplotlib.axes._subplots.AxesSubplot at 0x7f5516a1be10>"
      ]
     },
     "execution_count": 20,
     "metadata": {},
     "output_type": "execute_result"
    },
    {
     "data": {
      "image/png": "[encoded data removed]",
      "text/plain": [
       "<Figure size 432x288 with 1 Axes>"
      ]
     },
     "metadata": {
      "needs_background": "light"
     },
     "output_type": "display_data"
    }
   ],
   "source": [
    "predicted_valid3 = pd.Series(model3.predict(features_valid))\n",
    "\n",
    "class_frequency3 = predicted_valid3.value_counts(normalize=True)\n",
    "print(class_frequency3)\n",
    "class_frequency3.plot(kind='bar')"
   ]
  },
  {
   "cell_type": "markdown",
   "metadata": {},
   "source": [
    "После анализа мы видим, что почти все модели показывают значение accuracy в районе 0,8 - неплохо, но по графикам видно явное преобладание одного класса над другим. ПРоверим.\n",
    "\n",
    "Определим показатель константной модели - заполним ключевой показатель нулями."
   ]
  },
  {
   "cell_type": "code",
   "execution_count": 21,
   "metadata": {
    "scrolled": false
   },
   "outputs": [
    {
     "name": "stdout",
     "output_type": "stream",
     "text": [
      "Показатель accuracy в Константной модели:  0.7997333333333333\n"
     ]
    }
   ],
   "source": [
    "target_pred_constant = pd.Series(0, index=target_train.index)\n",
    "\n",
    "print('Показатель accuracy в Константной модели: ', accuracy_score(target_train, target_pred_constant)) "
   ]
  },
  {
   "cell_type": "markdown",
   "metadata": {},
   "source": [
    "Показатель константной модели такой же как и 3 описанных выше. Налицо дисбаланс классов."
   ]
  },
  {
   "cell_type": "markdown",
   "metadata": {},
   "source": [
    "<div class=\"alert alert-warning\">\n",
    "    \n",
    "**Комментарий ревьюера**\n",
    "    \n",
    "Получился неплохой блок, молодец) Нравится, что пишешь много рассуждений в ходе решения, однако в конце стоит формулировать и выделять итоги блоков)\n",
    "</div>"
   ]
  },
  {
   "cell_type": "markdown",
   "metadata": {},
   "source": [
    "<div class=\"alert alert-warning\">\n",
    "    \n",
    "**Комментарий ревьюера v_2**\n",
    "    \n",
    "Очень жаль, что не выделил)\n",
    "</div>"
   ]
  },
  {
   "cell_type": "markdown",
   "metadata": {},
   "source": [
    "<a id='section_3'></a>"
   ]
  },
  {
   "cell_type": "markdown",
   "metadata": {},
   "source": [
    "# 3. Борьба с дисбалансом"
   ]
  },
  {
   "cell_type": "markdown",
   "metadata": {},
   "source": [
    "Опишем некоторые приемы для ликвидации дисбаланса\n",
    "\n",
    "Добавим взвешивание классов в наши модели и измерим f1"
   ]
  },
  {
   "cell_type": "code",
   "execution_count": 22,
   "metadata": {},
   "outputs": [
    {
     "name": "stdout",
     "output_type": "stream",
     "text": [
      "Показатель F1-меры:  0.49855072463768113\n"
     ]
    }
   ],
   "source": [
    "model = DecisionTreeClassifier(random_state=12345, class_weight='balanced')\n",
    "model.fit(features_train, target_train)\n",
    "predicted_valid = model.predict(features_valid)\n",
    "\n",
    "print('Показатель F1-меры: ' , f1_score(target_valid, predicted_valid))"
   ]
  },
  {
   "cell_type": "code",
   "execution_count": 23,
   "metadata": {},
   "outputs": [
    {
     "name": "stdout",
     "output_type": "stream",
     "text": [
      "Показатель F1-меры:  0.5077441077441077\n"
     ]
    }
   ],
   "source": [
    "model2 = LogisticRegression(random_state=12345, solver='liblinear', class_weight='balanced')\n",
    "model2.fit(features_train, target_train)\n",
    "predicted_valid2 = model2.predict(features_valid)\n",
    "\n",
    "print('Показатель F1-меры: ' , f1_score(target_valid, predicted_valid2))"
   ]
  },
  {
   "cell_type": "code",
   "execution_count": 24,
   "metadata": {
    "scrolled": true
   },
   "outputs": [
    {
     "name": "stdout",
     "output_type": "stream",
     "text": [
      "Показатель F1-меры:  0.48327137546468396\n"
     ]
    }
   ],
   "source": [
    "model3 = RandomForestClassifier(random_state=12345, n_estimators=6, class_weight='balanced')\n",
    "model3.fit(features_train, target_train)\n",
    "predicted_valid3 = model3.predict(features_valid)\n",
    "\n",
    "print('Показатель F1-меры: ' , f1_score(target_valid, predicted_valid3))"
   ]
  },
  {
   "cell_type": "markdown",
   "metadata": {},
   "source": [
    "Взвешивание классов в настройках модели помогло особенно в модели LogisticRegression, увеличение ф1-меры почти в 2 раза.\n"
   ]
  },
  {
   "cell_type": "markdown",
   "metadata": {},
   "source": [
    "<div class=\"alert alert-success\">\n",
    "    \n",
    "**Комментарий ревьюера**\n",
    "    \n",
    "Отлично)\n",
    "</div>"
   ]
  },
  {
   "cell_type": "markdown",
   "metadata": {},
   "source": [
    "Попробуем уравновесить классы, увеличив положительный класс в 4 раза. В графиках каждой модели, в среднем, положительный класс больше отрицательного в 4 раза. Применим инструмент и проверим результаты."
   ]
  },
  {
   "cell_type": "markdown",
   "metadata": {},
   "source": [
    "<div class=\"alert alert-danger\">\n",
    "    \n",
    "**Комментарий ревьюера**\n",
    "    \n",
    "Что значит в графиках моделей? Мы смотрим баланс классов в данных, а не в моделях. Ниже код, которые показывает реальное соотношение 4:1. Прошу тебя исправить) Результаты должны изменится после 1 и 2 поправок, поэтому дальше пока не смотрю)Не расстраивайся, ошибки это хорошо, они позволяют на тренировочных проектах получать очень нужный опыт)Если есть какие-то вопросы, буду рад на них ответить)\n",
    "</div>"
   ]
  },
  {
   "cell_type": "markdown",
   "metadata": {},
   "source": [
    "<div class=\"alert alert-block alert-info\">\n",
    "Согласен, исправляю) надеюсь, что правильно"
   ]
  },
  {
   "cell_type": "code",
   "execution_count": 25,
   "metadata": {
    "scrolled": true
   },
   "outputs": [
    {
     "data": {
      "text/plain": [
       "0    7963\n",
       "1    2037\n",
       "Name: exited, dtype: int64"
      ]
     },
     "execution_count": 25,
     "metadata": {},
     "output_type": "execute_result"
    }
   ],
   "source": [
    "data['exited'].value_counts()"
   ]
  },
  {
   "cell_type": "code",
   "execution_count": 26,
   "metadata": {},
   "outputs": [
    {
     "data": {
      "text/plain": [
       "0.25580811252040686"
      ]
     },
     "execution_count": 26,
     "metadata": {},
     "output_type": "execute_result"
    }
   ],
   "source": [
    "2037 / 7963 \n"
   ]
  },
  {
   "cell_type": "code",
   "execution_count": 27,
   "metadata": {},
   "outputs": [
    {
     "name": "stdout",
     "output_type": "stream",
     "text": [
      "Показатель F1-меры:  0.5075471698113208\n"
     ]
    }
   ],
   "source": [
    "def upsample(features, target, repeat):\n",
    "    features_zeros = features[target == 0]\n",
    "    features_ones = features[target == 1]\n",
    "    target_zeros = target[target == 0]\n",
    "    target_ones = target[target == 1]\n",
    "\n",
    "    features_upsampled = pd.concat([features_zeros] + [features_ones] * repeat)\n",
    "    target_upsampled = pd.concat([target_zeros] + [target_ones] * repeat)\n",
    "    \n",
    "    features_upsampled, target_upsampled = shuffle(\n",
    "        features_upsampled, target_upsampled, random_state=12345)\n",
    "    \n",
    "    return features_upsampled, target_upsampled\n",
    "\n",
    "features_upsampled, target_upsampled = upsample(features_train, target_train, 4)\n",
    "\n",
    "model = DecisionTreeClassifier(random_state=12345, class_weight='balanced')\n",
    "model.fit(features_upsampled, target_upsampled)\n",
    "predicted_valid = model.predict(features_valid)\n",
    "\n",
    "print('Показатель F1-меры: ' , f1_score(target_valid, predicted_valid))"
   ]
  },
  {
   "cell_type": "markdown",
   "metadata": {},
   "source": [
    "DecisionTreeClassifier со взвешенными классами и увеличенным в 4 раза положительным классов дало ф1-меру 0,5"
   ]
  },
  {
   "cell_type": "markdown",
   "metadata": {},
   "source": [
    "попробуем уменьшить отрицательныйкласс в 4 раза"
   ]
  },
  {
   "cell_type": "code",
   "execution_count": 28,
   "metadata": {
    "scrolled": true
   },
   "outputs": [
    {
     "name": "stdout",
     "output_type": "stream",
     "text": [
      "Показатель F1-меры:  0.4879948085658664\n"
     ]
    }
   ],
   "source": [
    "def downsample(features, target, fraction):\n",
    "    features_zeros = features[target == 0]\n",
    "    features_ones = features[target == 1]\n",
    "    target_zeros = target[target == 0]\n",
    "    target_ones = target[target == 1]\n",
    "\n",
    "    features_downsampled = pd.concat(\n",
    "        [features_zeros.sample(frac=fraction, random_state=12345)] + [features_ones])\n",
    "    target_downsampled = pd.concat(\n",
    "        [target_zeros.sample(frac=fraction, random_state=12345)] + [target_ones])\n",
    "    \n",
    "    features_downsampled, target_downsampled = shuffle(\n",
    "        features_downsampled, target_downsampled, random_state=12345)\n",
    "    \n",
    "    return features_downsampled, target_downsampled\n",
    "\n",
    "features_downsampled, target_downsampled = downsample(features_train, target_train, 0.25)\n",
    "\n",
    "model = DecisionTreeClassifier(random_state=12345, class_weight='balanced')\n",
    "model.fit(features_downsampled, target_downsampled)\n",
    "predicted_valid = model.predict(features_valid)\n",
    "\n",
    "print('Показатель F1-меры: ' , f1_score(target_valid, predicted_valid))"
   ]
  },
  {
   "cell_type": "markdown",
   "metadata": {},
   "source": [
    "Сравнивая 2 инструмента, предпочтение стоит отдать увеличению значения положительного класса."
   ]
  },
  {
   "cell_type": "markdown",
   "metadata": {},
   "source": [
    "Для LogisticRegression попробуем опустить порог определения положительного и отрицательного класса"
   ]
  },
  {
   "cell_type": "code",
   "execution_count": 29,
   "metadata": {
    "scrolled": false
   },
   "outputs": [
    {
     "name": "stdout",
     "output_type": "stream",
     "text": [
      "Порог = 0.00 | f1 = 0.35\n",
      "Порог = 0.02 | f1 = 0.35\n",
      "Порог = 0.04 | f1 = 0.37\n",
      "Порог = 0.06 | f1 = 0.39\n",
      "Порог = 0.08 | f1 = 0.41\n",
      "Порог = 0.10 | f1 = 0.43\n",
      "Порог = 0.12 | f1 = 0.45\n",
      "Порог = 0.14 | f1 = 0.47\n",
      "Порог = 0.16 | f1 = 0.48\n",
      "Порог = 0.18 | f1 = 0.49\n",
      "Порог = 0.20 | f1 = 0.50\n",
      "Порог = 0.22 | f1 = 0.51\n",
      "Порог = 0.24 | f1 = 0.51\n",
      "Порог = 0.26 | f1 = 0.50\n",
      "Порог = 0.28 | f1 = 0.49\n",
      "Порог = 0.30 | f1 = 0.49\n",
      "Порог = 0.32 | f1 = 0.47\n",
      "Порог = 0.34 | f1 = 0.46\n",
      "Порог = 0.36 | f1 = 0.44\n",
      "Порог = 0.38 | f1 = 0.42\n"
     ]
    }
   ],
   "source": [
    "model2 = LogisticRegression(random_state=12345, solver='liblinear')\n",
    "model2.fit(features_train, target_train)\n",
    "probabilities_valid = model2.predict_proba(features_valid)\n",
    "probabilities_one_valid = probabilities_valid[:, 1]\n",
    "\n",
    "for threshold in np.arange(0, 0.4, 0.02):\n",
    "    predicted_valid = probabilities_one_valid > threshold \n",
    "    f1 = f1_score(target_valid, predicted_valid)\n",
    "    \n",
    "    print(\"Порог = {:.2f} | f1 = {:.2f}\".format(threshold, f1))\n",
    "    \n"
   ]
  },
  {
   "cell_type": "markdown",
   "metadata": {},
   "source": [
    "Если опустить порог входа до 0,24 , можно получить ф1-меру в районе 0,51"
   ]
  },
  {
   "cell_type": "markdown",
   "metadata": {},
   "source": [
    "<div class=\"alert alert-block alert-info\">\n",
    "    Вот тут скажи пожалуйста как практически снизить порог? Это в параметрах модели нужно делать? "
   ]
  },
  {
   "cell_type": "markdown",
   "metadata": {},
   "source": [
    "<div class=\"alert alert-success\">\n",
    "    \n",
    "**Комментарий ревьюера v_2**\n",
    "    \n",
    "Сначала скажу что молодец)Отлично, что рассмотрел несколько методов)\n",
    "    \n",
    "Касаемо вопроса, ты ведь правильно изменяешь порог, не понимаю в  чем вопрос)А чтобы результат лучше был, попробуй изменить его и в других моделях тоже)\n",
    "</div>"
   ]
  },
  {
   "cell_type": "markdown",
   "metadata": {},
   "source": [
    "<a id='section_4'></a>"
   ]
  },
  {
   "cell_type": "markdown",
   "metadata": {},
   "source": [
    "# 4. Тестирование модели"
   ]
  },
  {
   "cell_type": "markdown",
   "metadata": {},
   "source": [
    "Будем тестировать  3 модели с использованием увеличения выборки и уменьшения выборки."
   ]
  },
  {
   "cell_type": "markdown",
   "metadata": {},
   "source": [
    "DecisionTreeClassifier"
   ]
  },
  {
   "cell_type": "code",
   "execution_count": 30,
   "metadata": {},
   "outputs": [
    {
     "name": "stdout",
     "output_type": "stream",
     "text": [
      "Показатель F1-меры:  0.49758919961427195\n",
      "Показатель Auc-Roc:  0.6790349813321919\n"
     ]
    }
   ],
   "source": [
    "features_upsampled, target_upsampled = upsample(features_train, target_train, 4)\n",
    "\n",
    "model = DecisionTreeClassifier(random_state=12345)\n",
    "model.fit(features_upsampled, target_upsampled)\n",
    "predicted_valid = model.predict(features_valid)\n",
    "\n",
    "print('Показатель F1-меры: ' , f1_score(target_valid, predicted_valid))\n",
    "\n",
    "probabilities_valid = model.predict_proba(features_valid)\n",
    "probabilities_one_valid = probabilities_valid[:, 1]\n",
    "auc_roc = roc_auc_score(target_valid, probabilities_one_valid)\n",
    "print('Показатель Auc-Roc: ' , auc_roc)"
   ]
  },
  {
   "cell_type": "code",
   "execution_count": 31,
   "metadata": {
    "scrolled": false
   },
   "outputs": [
    {
     "name": "stdout",
     "output_type": "stream",
     "text": [
      "Показатель F1-меры:  0.49338624338624343\n",
      "Показатель Auc-Roc:  0.6949085634110959\n"
     ]
    }
   ],
   "source": [
    "features_downsampled, target_downsampled = downsample(features_train, target_train, 0.25)\n",
    "\n",
    "model = DecisionTreeClassifier(random_state=12345)\n",
    "model.fit(features_downsampled, target_downsampled)\n",
    "predicted_valid = model.predict(features_valid)\n",
    "accuracy_valid = accuracy_score(target_valid, predicted_valid)\n",
    "\n",
    "print('Показатель F1-меры: ' , f1_score(target_valid, predicted_valid))\n",
    "\n",
    "probabilities_valid = model.predict_proba(features_valid)\n",
    "probabilities_one_valid = probabilities_valid[:, 1]\n",
    "auc_roc = roc_auc_score(target_valid, probabilities_one_valid)\n",
    "print('Показатель Auc-Roc: ' , auc_roc)"
   ]
  },
  {
   "cell_type": "markdown",
   "metadata": {},
   "source": [
    "Модель DecisionTreeClassifier с использование инстумента увеличения выборки показала Ф1-меру 0,49 , что равно ф1-мера при  downsample. \n",
    "\n",
    "Так же измерили Auc-Roc, чем она больше, тем больше истинноположительных значений. Случайная модель показывает 0,5.\n",
    "Auc-Roc 0,67 у upsample и 0,69 у downsample"
   ]
  },
  {
   "cell_type": "markdown",
   "metadata": {},
   "source": [
    "Сделаем аналогичные приемы для модели LogisticRegression"
   ]
  },
  {
   "cell_type": "code",
   "execution_count": 32,
   "metadata": {},
   "outputs": [
    {
     "name": "stdout",
     "output_type": "stream",
     "text": [
      "Показатель F1-меры:  0.5077441077441077\n",
      "Показатель Auc-Roc:  0.7634282181160972\n"
     ]
    }
   ],
   "source": [
    "features_upsampled, target_upsampled = upsample(features_train, target_train, 4)\n",
    "\n",
    "model2 = LogisticRegression(random_state=12345, solver='liblinear', class_weight='balanced')\n",
    "model2.fit(features_upsampled, target_upsampled)\n",
    "predicted_valid2 = model2.predict(features_valid)\n",
    "\n",
    "print('Показатель F1-меры: ' , f1_score(target_valid, predicted_valid2))\n",
    "\n",
    "probabilities_valid = model2.predict_proba(features_valid)\n",
    "probabilities_one_valid = probabilities_valid[:, 1]\n",
    "auc_roc = roc_auc_score(target_valid, probabilities_one_valid)\n",
    "print('Показатель Auc-Roc: ' , auc_roc)"
   ]
  },
  {
   "cell_type": "code",
   "execution_count": 33,
   "metadata": {
    "scrolled": true
   },
   "outputs": [
    {
     "name": "stdout",
     "output_type": "stream",
     "text": [
      "Показатель F1-меры:  0.5076615589606929\n",
      "Показатель Auc-Roc:  0.7632237045492378\n"
     ]
    }
   ],
   "source": [
    "features_downsampled, target_downsampled = downsample(features_train, target_train, 0.25)\n",
    "\n",
    "model2 = LogisticRegression(random_state=12345, solver='liblinear', class_weight='balanced')\n",
    "model2.fit(features_downsampled, target_downsampled)\n",
    "predicted_valid2 = model2.predict(features_valid)\n",
    "\n",
    "print('Показатель F1-меры: ' , f1_score(target_valid, predicted_valid2))\n",
    "\n",
    "probabilities_valid = model2.predict_proba(features_valid)\n",
    "probabilities_one_valid = probabilities_valid[:, 1]\n",
    "auc_roc = roc_auc_score(target_valid, probabilities_one_valid)\n",
    "print('Показатель Auc-Roc: ' , auc_roc)"
   ]
  },
  {
   "cell_type": "markdown",
   "metadata": {},
   "source": [
    "Видим что показатели Ф1-меры и Auc-Roc примерно равны"
   ]
  },
  {
   "cell_type": "markdown",
   "metadata": {},
   "source": [
    "RandomForestClassifier\n",
    "\n",
    "Приемы те же , только в данномслучае попробуем посчитать деревья и грубину"
   ]
  },
  {
   "cell_type": "code",
   "execution_count": 34,
   "metadata": {},
   "outputs": [
    {
     "name": "stdout",
     "output_type": "stream",
     "text": [
      "Показатель F1-меры:  0.5420765027322404\n",
      "Показатель Auc-Roc:  0.8044602982093172\n"
     ]
    }
   ],
   "source": [
    "features_upsampled, target_upsampled = upsample(features_train, target_train, 4)\n",
    "\n",
    "model3 = RandomForestClassifier(random_state=12345, n_estimators=6)\n",
    "model3.fit(features_upsampled, target_upsampled)\n",
    "predicted_valid3 = model3.predict(features_valid)\n",
    "\n",
    "print('Показатель F1-меры: ' , f1_score(target_valid, predicted_valid3))\n",
    "\n",
    "probabilities_valid = model3.predict_proba(features_valid)\n",
    "probabilities_one_valid = probabilities_valid[:, 1]\n",
    "auc_roc = roc_auc_score(target_valid, probabilities_one_valid)\n",
    "print('Показатель Auc-Roc: ' , auc_roc)"
   ]
  },
  {
   "cell_type": "markdown",
   "metadata": {},
   "source": [
    "Стандартная модель показывает Ф1-меру 0,54 и Auc-Roc 0,8"
   ]
  },
  {
   "cell_type": "code",
   "execution_count": 35,
   "metadata": {
    "scrolled": true
   },
   "outputs": [
    {
     "name": "stdout",
     "output_type": "stream",
     "text": [
      "Лучшее число деревьев:  37\n",
      "Лучшая F1-мера:  0.6207605344295992\n",
      "Лучший Auc_roc:  0.8477158688259494\n"
     ]
    }
   ],
   "source": [
    "best_model = None\n",
    "best_result = 0\n",
    "best_auc_roc = 0\n",
    "for est in range(1, 40):\n",
    "    model3 = RandomForestClassifier(random_state=12345, n_estimators=est)\n",
    "    model3.fit(features_upsampled, target_upsampled)\n",
    "    predicted_valid3 = model3.predict(features_valid)\n",
    "    result = f1_score(target_valid, predicted_valid3)\n",
    "    probabilities_valid = model3.predict_proba(features_valid)\n",
    "    probabilities_one_valid = probabilities_valid[:, 1]\n",
    "    auc_roc = roc_auc_score(target_valid, probabilities_one_valid)\n",
    "    if result > best_result:\n",
    "        best_model = est\n",
    "        best_result = result\n",
    "        best_auc_roc = auc_roc\n",
    "print('Лучшее число деревьев: ', best_model)  \n",
    "print('Лучшая F1-мера: ' ,best_result)\n",
    "print('Лучший Auc_roc: ' ,best_auc_roc)"
   ]
  },
  {
   "cell_type": "markdown",
   "metadata": {},
   "source": [
    "Тенденция до 40 деревьев возрастающая: чем больше деревьев , тем больше Ф1-мера.\n",
    "Получили Ф1-меру: 0.62 и Auc_roc:  0.84"
   ]
  },
  {
   "cell_type": "code",
   "execution_count": 36,
   "metadata": {},
   "outputs": [
    {
     "name": "stdout",
     "output_type": "stream",
     "text": [
      "Показатель F1-меры:  0.5567010309278351\n",
      "Показатель Auc-Roc:  0.8105638391477016\n"
     ]
    }
   ],
   "source": [
    "features_downsampled, target_downsampled = downsample(features_train, target_train, 0.25)\n",
    "\n",
    "model3 = RandomForestClassifier(random_state=12345, n_estimators=6, class_weight='balanced')\n",
    "model3.fit(features_downsampled, target_downsampled)\n",
    "predicted_valid3 = model3.predict(features_valid)\n",
    "probabilities_valid = model3.predict_proba(features_valid)\n",
    "probabilities_one_valid = probabilities_valid[:, 1]\n",
    "auc_roc = roc_auc_score(target_valid, probabilities_one_valid)\n",
    "\n",
    "print('Показатель F1-меры: ' , f1_score(target_valid, predicted_valid3))\n",
    "print('Показатель Auc-Roc: ' , auc_roc)"
   ]
  },
  {
   "cell_type": "markdown",
   "metadata": {},
   "source": [
    "downsample в RandomForestClassifier показал Ф1-меру 0.55 и Auc-Roc:  0.81\n",
    "\n",
    "Попробуем улучшить модель изменяя глубину.\n"
   ]
  },
  {
   "cell_type": "code",
   "execution_count": 37,
   "metadata": {
    "scrolled": false
   },
   "outputs": [
    {
     "name": "stdout",
     "output_type": "stream",
     "text": [
      "Лучшая глубина:  7\n",
      "Лучшая F1-мера:  0.6190833959429002\n",
      "Лучший Auc_roc:  0.7632237045492378\n"
     ]
    }
   ],
   "source": [
    "features_downsampled, target_downsampled = downsample(features_train, target_train, 0.25)\n",
    "\n",
    "\n",
    "best_model = None\n",
    "best_result = 0\n",
    "best_auc_roc = 0\n",
    "for depth in range(1, 10):\n",
    "    model3 = RandomForestClassifier(random_state=12345, n_estimators=10, max_depth = depth)\n",
    "    model3.fit(features_downsampled, target_downsampled)\n",
    "    predicted_valid3 = model3.predict(features_valid)\n",
    "    result = f1_score(target_valid, predicted_valid3)\n",
    "    probabilities_valid = model2.predict_proba(features_valid)\n",
    "    probabilities_one_valid = probabilities_valid[:, 1]\n",
    "    auc_roc = roc_auc_score(target_valid, probabilities_one_valid)\n",
    "    if result > best_result:\n",
    "        best_model = depth\n",
    "        best_result = result\n",
    "        best_auc_roc = auc_roc\n",
    "print('Лучшая глубина: ', best_model)  \n",
    "print('Лучшая F1-мера: ' ,best_result)\n",
    "print('Лучший Auc_roc: ' ,best_auc_roc)"
   ]
  },
  {
   "cell_type": "markdown",
   "metadata": {},
   "source": [
    "Лучшая глубина при 10 деревьях 7. \n",
    "\n",
    "Лучшая F1-мера:  0.6190833959429002\n",
    "Лучший Auc_roc:  0.7632237045492378\n",
    "Интересно , что Auc_roc упал, хоть и не намного"
   ]
  },
  {
   "cell_type": "markdown",
   "metadata": {},
   "source": [
    "<div class=\"alert alert-success\">\n",
    "    \n",
    "**Комментарий ревьюера v_2**\n",
    "    \n",
    "Отлично)\n",
    "</div>"
   ]
  },
  {
   "cell_type": "markdown",
   "metadata": {},
   "source": [
    "<a id='section_5'></a>"
   ]
  },
  {
   "cell_type": "markdown",
   "metadata": {},
   "source": [
    "# 5. Выводы"
   ]
  },
  {
   "cell_type": "markdown",
   "metadata": {},
   "source": [
    "Выводы: \n",
    "В датасете были исправлены типы данных\n",
    "Проверена корреляция между признаками\n",
    "Произведено преобразование категориальных признаков в численные и данные приведены к одному масштабу.\n",
    "\n",
    "Исследована работа 3 моделей: DecisionTreeClassifier, LogisticRegression, RandomForestClassifier\n",
    "\n",
    "Наилучший показатель Ф1-меры на несбалансированных данных показала модель RandomForestClassifier (0,51)\n",
    "\n",
    "Произведено сравнение показателей с 3 моделей с константной моделью.\n",
    "Выявлено отсутствие балланса в классах\n",
    "\n",
    "Совершен поиск наилучшего инструмента для нахождения баланса классов. Инструмент увеличения выборки upsample и уменьшения выборки демонстрируют примерно равные показатели.\n",
    "\n",
    "Найдена лучшая модель для определения наивысшей Ф1-меры - RandomForestClassifier с количеством деревьев 37 и инструментом увеличения выборки upsample. Модель с описанными настройками паказала F1-меру 0.62 и Auc_roc 0.84"
   ]
  },
  {
   "cell_type": "markdown",
   "metadata": {},
   "source": [
    "# Чек-лист готовности проекта"
   ]
  },
  {
   "cell_type": "markdown",
   "metadata": {},
   "source": [
    "Поставьте 'x' в выполненных пунктах. Далее нажмите Shift+Enter."
   ]
  },
  {
   "cell_type": "markdown",
   "metadata": {},
   "source": [
    "- [x]  Jupyter Notebook открыт\n",
    "- [x]  Весь код выполняется без ошибок\n",
    "- [x]  Ячейки с кодом расположены в порядке исполнения\n",
    "- [x]  Выполнен шаг 1: данные подготовлены\n",
    "- [x]  Выполнен шаг 2: задача исследована\n",
    "    - [x]  Исследован баланс классов\n",
    "    - [x]  Изучены модели без учёта дисбаланса\n",
    "    - [x]  Написаны выводы по результатам исследования\n",
    "- [x]  Выполнен шаг 3: учтён дисбаланс\n",
    "    - [x]  Применено несколько способов борьбы с дисбалансом\n",
    "    - [x]  Написаны выводы по результатам исследования\n",
    "- [x]  Выполнен шаг 4: проведено тестирование\n",
    "- [x]  Удалось достичь *F1*-меры не менее 0.59\n",
    "- [x]  Исследована метрика *AUC-ROC*"
   ]
  },
  {
   "cell_type": "markdown",
   "metadata": {},
   "source": [
    "<div class=\"alert alert-success\">\n",
    "    \n",
    "**Комментарий ревьюера v_2**\n",
    "    \n",
    "Вадим, большое спасибо за доработки)Получился отличный проект)Теперь я могу его принять, но мы не разобрались с твоим вопросом)Переформулируй его пожалуйста, я отвечу, чтобы ты точно был уверен что разобрался и тогда завершим проект)\n",
    "</div>"
   ]
  },
  {
   "cell_type": "markdown",
   "metadata": {},
   "source": [
    "<div class=\"alert alert-block alert-info\">\n",
    "Да у меня вопрос в этапах: 1) обучаем модель 2) выводим вероятности первого класса 3) циклом определяем пороги и необходимую метрику. Все? больше ничего на этом этапе делать не нужно?\n",
    "\n",
    "У меня было подозрение, что где-то в самой модели LogisticRegression есть гиперпараметр \"threshold\", который по дефолту на уровне 0,5 , а мы его руками можем подвинуть в нужную сторону в настройках самой модели - это теория тренажера немного запутала. "
   ]
  },
  {
   "cell_type": "markdown",
   "metadata": {},
   "source": [
    "<div class=\"alert alert-success\">\n",
    "    \n",
    "**Комментарий ревьюера v_2**\n",
    "    \n",
    "Всё)В самой модели нет такого гиперпараметра)Так, ну что, теперь работу принимаю)Успехов в дальнейшем обучении)\n",
    "</div>"
   ]
  },
  {
   "cell_type": "code",
   "execution_count": null,
   "metadata": {},
   "outputs": [],
   "source": []
  }
 ],
 "metadata": {
  "ExecuteTimeLog": [
   {
    "duration": 1047,
    "start_time": "2021-09-14T06:41:34.819Z"
   },
   {
    "duration": 82,
    "start_time": "2021-09-14T06:41:35.867Z"
   },
   {
    "duration": 3,
    "start_time": "2021-09-14T06:41:35.951Z"
   },
   {
    "duration": 9,
    "start_time": "2021-09-14T06:41:35.955Z"
   },
   {
    "duration": 25,
    "start_time": "2021-09-14T06:41:35.965Z"
   },
   {
    "duration": 22,
    "start_time": "2021-09-14T06:41:35.992Z"
   },
   {
    "duration": 365,
    "start_time": "2021-09-14T06:41:36.016Z"
   },
   {
    "duration": 12,
    "start_time": "2021-09-14T06:41:36.383Z"
   },
   {
    "duration": 13,
    "start_time": "2021-09-14T06:41:36.399Z"
   },
   {
    "duration": 71,
    "start_time": "2021-09-14T06:41:36.414Z"
   },
   {
    "duration": 6,
    "start_time": "2021-09-14T06:41:36.487Z"
   },
   {
    "duration": 41,
    "start_time": "2021-09-14T06:41:36.495Z"
   },
   {
    "duration": 7,
    "start_time": "2021-09-14T06:41:36.538Z"
   },
   {
    "duration": 173,
    "start_time": "2021-09-14T06:41:36.547Z"
   },
   {
    "duration": 66,
    "start_time": "2021-09-14T06:41:36.721Z"
   },
   {
    "duration": 98,
    "start_time": "2021-09-14T06:41:36.789Z"
   },
   {
    "duration": 302,
    "start_time": "2021-09-14T06:41:36.889Z"
   },
   {
    "duration": 58,
    "start_time": "2021-09-14T06:41:37.193Z"
   },
   {
    "duration": 6,
    "start_time": "2021-09-14T06:41:37.253Z"
   },
   {
    "duration": 153,
    "start_time": "2021-09-14T06:41:37.261Z"
   },
   {
    "duration": 4,
    "start_time": "2021-09-14T06:41:37.415Z"
   },
   {
    "duration": 40,
    "start_time": "2021-09-14T06:41:37.421Z"
   },
   {
    "duration": 121,
    "start_time": "2021-09-14T06:41:37.463Z"
   },
   {
    "duration": 148,
    "start_time": "2021-09-14T06:41:37.587Z"
   },
   {
    "duration": 5,
    "start_time": "2021-09-14T06:41:37.737Z"
   },
   {
    "duration": 7,
    "start_time": "2021-09-14T06:41:37.744Z"
   },
   {
    "duration": 86,
    "start_time": "2021-09-14T06:41:37.753Z"
   },
   {
    "duration": 27,
    "start_time": "2021-09-14T06:41:37.841Z"
   },
   {
    "duration": 238,
    "start_time": "2021-09-14T06:41:37.870Z"
   },
   {
    "duration": 78,
    "start_time": "2021-09-14T06:41:38.110Z"
   },
   {
    "duration": 28,
    "start_time": "2021-09-14T06:41:38.189Z"
   },
   {
    "duration": 72,
    "start_time": "2021-09-14T06:41:38.219Z"
   },
   {
    "duration": 293,
    "start_time": "2021-09-14T06:41:38.293Z"
   },
   {
    "duration": 177,
    "start_time": "2021-09-14T06:41:38.588Z"
   },
   {
    "duration": 8978,
    "start_time": "2021-09-14T06:41:38.766Z"
   },
   {
    "duration": 55,
    "start_time": "2021-09-14T06:41:47.746Z"
   },
   {
    "duration": 1611,
    "start_time": "2021-09-14T06:41:47.803Z"
   }
  ],
  "kernelspec": {
   "display_name": "Python 3",
   "language": "python",
   "name": "python3"
  },
  "language_info": {
   "codemirror_mode": {
    "name": "ipython",
    "version": 3
   },
   "file_extension": ".py",
   "mimetype": "text/x-python",
   "name": "python",
   "nbconvert_exporter": "python",
   "pygments_lexer": "ipython3",
   "version": "3.7.8"
  },
  "toc": {
   "base_numbering": 1,
   "nav_menu": {},
   "number_sections": true,
   "sideBar": true,
   "skip_h1_title": true,
   "title_cell": "Table of Contents",
   "title_sidebar": "Contents",
   "toc_cell": false,
   "toc_position": {},
   "toc_section_display": true,
   "toc_window_display": false
  }
 },
 "nbformat": 4,
 "nbformat_minor": 2
}
